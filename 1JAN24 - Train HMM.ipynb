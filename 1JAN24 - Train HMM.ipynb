{
 "cells": [
  {
   "cell_type": "code",
   "execution_count": null,
   "id": "d7a4ca05-4266-48cd-a655-202284374721",
   "metadata": {},
   "outputs": [],
   "source": [
    "import nltk\n",
    "from nltk.corpus import treebank\n",
    "from nltk.tag.hmm import HiddenMarkovModelTagger\n",
    "from nltk.tokenize import word_tokenize\n",
    "from nltk.tokenize import treebank\n",
    "import yaml\n",
    "import pandas as pd\n",
    "import re\n",
    "from yaml import safe_load\n",
    "from sqlalchemy.dialects import postgresql\n",
    "from sqlalchemy import Integer, Numeric, String, DateTime, create_engine\n",
    "import psycopg2\n",
    "from nltk.tokenize import TreebankWordTokenizer\n",
    "twt = TreebankWordTokenizer()\n",
    "import random\n",
    "from tqdm import tqdm\n",
    "tqdm.pandas()\n",
    "from sklearn.model_selection import train_test_split\n",
    "import os\n",
    "from dotenv import load_dotenv\n",
    "load_dotenv()"
   ]
  },
  {
   "cell_type": "code",
   "execution_count": 505,
   "id": "2d8a3a67-c81c-4159-afca-83610c764ae0",
   "metadata": {},
   "outputs": [],
   "source": [
    "pd.set_option('max_colwidth', 1000)"
   ]
  },
  {
   "cell_type": "code",
   "execution_count": 535,
   "id": "90daa292-c099-4af6-af74-effd34e5fa94",
   "metadata": {},
   "outputs": [],
   "source": [
    "def make_unicode(inp):\n",
    "    if type(inp) != unicode:\n",
    "        inp =  inp.decode('utf-8')\n",
    "    return inp\n",
    "\n",
    "def kw_query(query_word):\n",
    "    \"\"\"\n",
    "    Grab a random bit of text that references your keyword query\n",
    "    \"\"\"\n",
    "    \n",
    "    connection = psycopg2.connect(user=user,\n",
    "                              password=password,\n",
    "                              host=host,\n",
    "                              port=port,\n",
    "                              database=database)\n",
    "    cursor = connection.cursor()\n",
    "    \n",
    "    sql = f'''SELECT title FROM articles WHERE title ~ '\\y{query_word.replace(\"'\",\"\")}\\y' limit 1'''\n",
    "\n",
    "    cursor.execute(sql)\n",
    "    # print(\"Selecting rows from mobile table using cursor.fetchall\")\n",
    "    result = cursor.fetchone()\n",
    "    connection.close()\n",
    "    # print(type(result))\n",
    "    # print(result)\n",
    "    # print(len(result))\n",
    "    if result != None:\n",
    "        return result[0]\n",
    "    else:\n",
    "        return None\n",
    "\n",
    "def flatten_extend(matrix):\n",
    "     flat_list = []\n",
    "     for row in matrix:\n",
    "         flat_list.extend(row)\n",
    "     return flat_list\n",
    "\n",
    "def annotate(input_sentence):\n",
    "    \"\"\"\n",
    "    1. REGEX search the input text for country names, getting the appropriate span-match\n",
    "    2. Word tokenize, and span tokenize\n",
    "    3. Compare the span-tokenized spans to the regex spans\n",
    "    4. Poop out annotated docs\n",
    "    \"\"\"\n",
    "    ## Regex search for country names\n",
    "    regex_hits = {}\n",
    "    for match in regex_query.finditer(input_sentence):\n",
    "        regex_hits[(match.start(), match.end())] = match.group()\n",
    "\n",
    "    ## Tokenization\n",
    "    tokens = [x for x in twt.tokenize(input_sentence)]\n",
    "    token_spans = [x for x in twt.span_tokenize(input_sentence)]\n",
    "\n",
    "    ## Stop early if there's no country mention\n",
    "    if len(regex_hits)<1:\n",
    "        return [(token, 'o') for token in tokens]\n",
    "    \n",
    "    ## Compare the REGEX and Tokenized spans    \n",
    "    xyz = []\n",
    "    for token_span in token_spans:\n",
    "        for regex_span in regex_hits.keys():\n",
    "            if (token_span[0] >= regex_span[0]) & (token_span[1] <= regex_span[1]):\n",
    "                xyz.append('Country')\n",
    "            else:\n",
    "                xyz.append(\"o\")\n",
    "    return list(zip(tokens, xyz))\n",
    "\n",
    "def get_random_titles(limit=25):\n",
    "    connection = psycopg2.connect(user=user,\n",
    "                              password=password,\n",
    "                              host=host,\n",
    "                              port=port,\n",
    "                              database=database)\n",
    "    cursor = connection.cursor()\n",
    "    \n",
    "    sql = f'''SELECT title FROM articles ORDER BY random() LIMIT {limit};'''\n",
    "    \n",
    "    cursor.execute(sql)\n",
    "    # print(\"Selecting rows from mobile table using cursor.fetchall\")\n",
    "    result = cursor.fetchall()\n",
    "    connection.close()\n",
    "\n",
    "    return result\n",
    "\n",
    "from nltk.tag.hmm import HiddenMarkovModelTagger\n",
    "\n",
    "def train_hmm(train, dev):\n",
    "    \"\"\"\n",
    "    Train an HMM tagger on the training set provided\n",
    "    \"\"\"\n",
    "    \n",
    "    hmm_tagger = HiddenMarkovModelTagger.train(train, dev)\n",
    "    \n",
    "    return hmm_tagger"
   ]
  },
  {
   "cell_type": "markdown",
   "id": "c2fe699e-9c4d-4956-8bf2-487317ae2940",
   "metadata": {},
   "source": [
    "## Connect to DB"
   ]
  },
  {
   "cell_type": "code",
   "execution_count": 5,
   "id": "9daeff63-5047-4ed3-b945-fce36c9e459e",
   "metadata": {},
   "outputs": [],
   "source": [
    "database = os.getenv('DATABASE')\n",
    "host = os.getenv('DBHOST')\n",
    "port = os.getenv('DBPORT')\n",
    "user = os.getenv('DBUSER')\n",
    "password = os.getenv('DBPASSWORD')"
   ]
  },
  {
   "cell_type": "code",
   "execution_count": 8,
   "id": "08550e29-098f-45ed-8422-37c48cd577bd",
   "metadata": {},
   "outputs": [],
   "source": [
    "conn_string = fr'postgresql+psycopg2://{user}:{password}@{host}/{database}'\n",
    "db = create_engine(conn_string)\n",
    "conn = db.connect()"
   ]
  },
  {
   "cell_type": "markdown",
   "id": "3144aaaf-281e-4bc6-8c3f-d2ec96f9f8f7",
   "metadata": {},
   "source": [
    "## Load and munge data"
   ]
  },
  {
   "cell_type": "code",
   "execution_count": 11,
   "id": "247d7b24-d158-45d7-b203-0cc7a4547347",
   "metadata": {},
   "outputs": [],
   "source": [
    "with open(\"en.yml\", \"r\") as f:\n",
    "    try:\n",
    "        countries = (yaml.safe_load(f))\n",
    "    except yaml.YAMLError as exc:\n",
    "        print(exc)"
   ]
  },
  {
   "cell_type": "code",
   "execution_count": 32,
   "id": "3cc04758-19cf-40e1-95ce-605e162f99f5",
   "metadata": {},
   "outputs": [],
   "source": [
    "leader_df = pd.read_csv(r\"world-leaders-social-media.csv\")"
   ]
  },
  {
   "cell_type": "code",
   "execution_count": 22,
   "id": "e2050afc-64c4-4db3-9693-1e2b61ca5f67",
   "metadata": {},
   "outputs": [],
   "source": [
    "no_aliases = []\n",
    "for country in countries:\n",
    "    if 'aliases' in country:\n",
    "        pass\n",
    "    else:\n",
    "        no_aliases.append(country)"
   ]
  },
  {
   "cell_type": "code",
   "execution_count": 24,
   "id": "3cc1e73f-ce66-4201-8322-4b1a2d2073e1",
   "metadata": {},
   "outputs": [],
   "source": [
    "for x in no_aliases:\n",
    "    countries[x]['aliases'] = []"
   ]
  },
  {
   "cell_type": "code",
   "execution_count": 34,
   "id": "837d4e40-c6b9-4319-b23b-3e12edd0600d",
   "metadata": {},
   "outputs": [],
   "source": [
    "df = df.T"
   ]
  },
  {
   "cell_type": "code",
   "execution_count": 107,
   "id": "212949d4-b2cb-4d97-b59a-169d8e6f49d2",
   "metadata": {},
   "outputs": [
    {
     "name": "stderr",
     "output_type": "stream",
     "text": [
      "100%|████████████████████████████████████████████████████████████████████████████████| 249/249 [03:40<00:00,  1.13it/s]\n"
     ]
    }
   ],
   "source": [
    "df['example'] = df['iso_name'].progress_apply(kw_query)"
   ]
  },
  {
   "cell_type": "code",
   "execution_count": 146,
   "id": "53aeadae-061b-4512-9305-1ec387461934",
   "metadata": {},
   "outputs": [],
   "source": [
    "df = df[df['example'].str.len()>0]"
   ]
  },
  {
   "cell_type": "code",
   "execution_count": null,
   "id": "2cc1843e-7fc4-4f20-bece-3aace89e3b0c",
   "metadata": {},
   "outputs": [],
   "source": [
    "demonym_df = pd.read_excel(\"demonyms.xlsx\")\n",
    "\n",
    "adj = flatten_extend([i.split(', ') for i in demonym_df['Adjectivals'].tolist()])\n",
    "dem = flatten_extend([i.split(', ') for i in demonym_df['Demonyms'].tolist()])"
   ]
  },
  {
   "cell_type": "code",
   "execution_count": 707,
   "id": "c79a2319-2c7f-4d70-be65-ad4360f05082",
   "metadata": {},
   "outputs": [
    {
     "name": "stdout",
     "output_type": "stream",
     "text": [
      "Before dedup: 1151\n",
      "After dedup: 877\n"
     ]
    }
   ],
   "source": [
    "country_lookup = df['iso_name'].to_list()\n",
    "country_lookup.extend(df['short'].to_list())\n",
    "\n",
    "country_lookup.extend(flatten_extend(df[df['aliases'].notna()]['aliases'].to_list()))\n",
    "country_lookup.extend(adj)\n",
    "country_lookup.extend(dem)\n",
    "\n",
    "bonus_context = ['US', 'U.S.', 'USA', 'U.S.A.' 'England', 'Herzegovina', 'British', 'Kurd', 'Kurdish', 'Washington', 'Beijing', 'Moscow', 'London',\n",
    "                'Gaza', 'Palestine', 'West Bank', 'Levant', 'NKorea', 'SKorea', \"Uyghurs\",\"Uighurs\", \"Uygurs\", \"Uigurs\",\"Uyghur\",\"Uighur\", \"Uygur\", \n",
    "                 \"Uigur\", \"Native Americans\", \"Native American\", 'Hezbollah', 'ISIS', 'ISIL', 'Daesh', 'Obama', 'Biden', 'Mike Pence', 'Donald Trump',\n",
    "                'Putin', 'Xi Jinping', 'Syria', 'Syrian', 'Zelensky']\n",
    "country_lookup.extend(bonus_context)\n",
    "\n",
    "country_lookup = [x.strip() for x in country_lookup]\n",
    "\n",
    "print(\"Before dedup:\",len(country_lookup))\n",
    "country_lookup = list(set(country_lookup))\n",
    "print(\"After dedup:\",len(country_lookup))"
   ]
  },
  {
   "cell_type": "code",
   "execution_count": 708,
   "id": "3d83af9d-0ec3-4011-9fa7-f04cddff8559",
   "metadata": {},
   "outputs": [],
   "source": [
    "## Todo: escape periods. For some reason this is really hard\n",
    "country_lookup = [x.replace('.', r'.') for x in country_lookup]\n",
    "country_lookup.sort()\n",
    "country_query = [fr\"\\b{x}\\b\" for x in country_lookup]\n",
    "regex_query = re.compile(\"|\".join(country_query))"
   ]
  },
  {
   "cell_type": "markdown",
   "id": "977acd09-fb49-4ddc-92e1-ab9f67166653",
   "metadata": {},
   "source": [
    "## Apply annotations/Make training data"
   ]
  },
  {
   "cell_type": "code",
   "execution_count": 709,
   "id": "59bb0377-07ac-4459-9e57-a9e88fd568aa",
   "metadata": {},
   "outputs": [
    {
     "name": "stderr",
     "output_type": "stream",
     "text": [
      "100%|██████████████████████████████████████████████████████████████████████████████| 205/205 [00:00<00:00, 4268.22it/s]\n",
      "C:\\Users\\Dan\\AppData\\Local\\Temp\\ipykernel_22572\\1966908333.py:1: SettingWithCopyWarning: \n",
      "A value is trying to be set on a copy of a slice from a DataFrame.\n",
      "Try using .loc[row_indexer,col_indexer] = value instead\n",
      "\n",
      "See the caveats in the documentation: https://pandas.pydata.org/pandas-docs/stable/user_guide/indexing.html#returning-a-view-versus-a-copy\n",
      "  df['annotated'] = df['example'].progress_apply(annotate)\n"
     ]
    },
    {
     "name": "stdout",
     "output_type": "stream",
     "text": [
      "47745\n"
     ]
    },
    {
     "name": "stderr",
     "output_type": "stream",
     "text": [
      "100%|██████████████████████████████████████████████████████████████████████████| 47745/47745 [00:11<00:00, 4242.88it/s]\n"
     ]
    }
   ],
   "source": [
    "df['annotated'] = df['example'].progress_apply(annotate)\n",
    "annotated = df['annotated'].to_list()\n",
    "train_data = get_random_titles(50000)\n",
    "df3 = pd.DataFrame(train_data, columns=['text'])\n",
    "df3 = df3.drop_duplicates('text')\n",
    "print(len(df3))\n",
    "df3['annotated'] = df3['text'].progress_apply(annotate)\n",
    "df3 = df3[df3['annotated'].astype(str).str.contains('Country')]\n",
    "annotated2 = df3['annotated'].to_list()\n",
    "annotated.extend(annotated2)"
   ]
  },
  {
   "cell_type": "code",
   "execution_count": 710,
   "id": "3e971ad3-b784-4c54-ae57-31505b58a0ff",
   "metadata": {},
   "outputs": [
    {
     "data": {
      "text/plain": [
       "11440"
      ]
     },
     "execution_count": 710,
     "metadata": {},
     "output_type": "execute_result"
    }
   ],
   "source": [
    "len(annotated)"
   ]
  },
  {
   "cell_type": "raw",
   "id": "41fa30c4-678a-4d4f-805e-80c419a331f0",
   "metadata": {},
   "source": [
    "for sentence in annotated:\n",
    "    # print(sentence)\n",
    "    for pair in sentence:\n",
    "        if pair[0] in [ 'U.K.', 'U.S.', 'U.S. Virgin Island', 'U.S. Virgin Islanders', 'U.S.A.']:\n",
    "            pair = (pair[0], 'Country')\n",
    "        # print(pair)"
   ]
  },
  {
   "cell_type": "code",
   "execution_count": 711,
   "id": "5a3c5f78-cf35-4902-941f-49ca029eac5d",
   "metadata": {},
   "outputs": [],
   "source": [
    "train, dev = train_test_split(annotated, test_size=0.2, random_state=42)\n",
    "\n",
    "dataset = {\"train\": train, \"dev\":dev}"
   ]
  },
  {
   "cell_type": "markdown",
   "id": "d370f275-f40d-425b-811e-d8c2b10c66a9",
   "metadata": {},
   "source": [
    "## Train Hidden Markov Model"
   ]
  },
  {
   "cell_type": "code",
   "execution_count": 712,
   "id": "783131b2-3394-47f1-a946-5696ca667653",
   "metadata": {},
   "outputs": [
    {
     "name": "stdout",
     "output_type": "stream",
     "text": [
      "accuracy over 33398 tokens: 95.57\n"
     ]
    }
   ],
   "source": [
    "hmm_tagger = train_hmm(dataset[\"train\"], dataset[\"dev\"])"
   ]
  },
  {
   "cell_type": "markdown",
   "id": "4f49191f-e5d6-45e5-86b5-31fd955b57e6",
   "metadata": {},
   "source": [
    "## Validate"
   ]
  },
  {
   "cell_type": "code",
   "execution_count": 713,
   "id": "e46f217e-cfc7-4cf2-b931-18ba7c8db3f7",
   "metadata": {},
   "outputs": [],
   "source": [
    "testoo = get_random_titles(500)\n",
    "df4 = pd.DataFrame(testoo, columns=['text'])"
   ]
  },
  {
   "cell_type": "code",
   "execution_count": 714,
   "id": "ed6666ae-87ce-4d59-9014-68fdc35efe5c",
   "metadata": {},
   "outputs": [
    {
     "data": {
      "text/plain": [
       "493"
      ]
     },
     "execution_count": 714,
     "metadata": {},
     "output_type": "execute_result"
    }
   ],
   "source": [
    "df4 = df4.drop_duplicates('text')\n",
    "len(df4)"
   ]
  },
  {
   "cell_type": "code",
   "execution_count": 715,
   "id": "b84b91b5-27a1-4a0b-a806-336a65dc4bb3",
   "metadata": {
    "scrolled": true
   },
   "outputs": [
    {
     "name": "stderr",
     "output_type": "stream",
     "text": [
      "100%|██████████████████████████████████████████████████████████████████████████████| 493/493 [00:00<00:00, 4178.31it/s]\n",
      "100%|███████████████████████████████████████████████████████████████████████████████| 493/493 [00:01<00:00, 362.91it/s]\n"
     ]
    }
   ],
   "source": [
    "df4['annotate'] = df4['text'].progress_apply(annotate)\n",
    "df4['hmm'] = df4['text'].progress_apply(lambda x: hmm_tagger.tag(twt.tokenize(x)))"
   ]
  },
  {
   "cell_type": "code",
   "execution_count": 716,
   "id": "74b352cc-df4d-40d5-9565-ee3f26201d4d",
   "metadata": {},
   "outputs": [
    {
     "data": {
      "text/plain": [
       "141"
      ]
     },
     "execution_count": 716,
     "metadata": {},
     "output_type": "execute_result"
    }
   ],
   "source": [
    "len(df4[df4['annotate']!=df4['hmm']])"
   ]
  },
  {
   "cell_type": "code",
   "execution_count": 717,
   "id": "b1ed1ba9-8e51-40da-b127-814efd566c44",
   "metadata": {},
   "outputs": [
    {
     "data": {
      "text/html": [
       "<div>\n",
       "<style scoped>\n",
       "    .dataframe tbody tr th:only-of-type {\n",
       "        vertical-align: middle;\n",
       "    }\n",
       "\n",
       "    .dataframe tbody tr th {\n",
       "        vertical-align: top;\n",
       "    }\n",
       "\n",
       "    .dataframe thead th {\n",
       "        text-align: right;\n",
       "    }\n",
       "</style>\n",
       "<table border=\"1\" class=\"dataframe\">\n",
       "  <thead>\n",
       "    <tr style=\"text-align: right;\">\n",
       "      <th></th>\n",
       "      <th>text</th>\n",
       "      <th>annotate</th>\n",
       "      <th>hmm</th>\n",
       "    </tr>\n",
       "  </thead>\n",
       "  <tbody>\n",
       "    <tr>\n",
       "      <th>351</th>\n",
       "      <td>Potato Chip-Chocolate Chip Cookies Recipe</td>\n",
       "      <td>[(Potato, o), (Chip-Chocolate, o), (Chip, o), (Cookies, o), (Recipe, o)]</td>\n",
       "      <td>[(Potato, Country), (Chip-Chocolate, o), (Chip, o), (Cookies, o), (Recipe, o)]</td>\n",
       "    </tr>\n",
       "    <tr>\n",
       "      <th>175</th>\n",
       "      <td>Alicia Navarro, 18, has now fled with the 36-year-old man she was living with at a Montana apartment - days after autistic teen reappeared four years after vanishing</td>\n",
       "      <td>[(Alicia, o), (Navarro, o), (,, o), (18, o), (,, o), (has, o), (now, o), (fled, o), (with, o), (the, o), (36-year-old, o), (man, o), (she, o), (was, o), (living, o), (with, o), (at, o), (a, o), (Montana, o), (apartment, o), (-, o), (days, o), (after, o), (autistic, o), (teen, o), (reappeared, o), (four, o), (years, o), (after, o), (vanishing, o)]</td>\n",
       "      <td>[(Alicia, Country), (Navarro, o), (,, o), (18, o), (,, o), (has, o), (now, o), (fled, o), (with, o), (the, o), (36-year-old, o), (man, o), (she, o), (was, o), (living, o), (with, o), (at, o), (a, o), (Montana, o), (apartment, o), (-, o), (days, o), (after, o), (autistic, o), (teen, o), (reappeared, o), (four, o), (years, o), (after, o), (vanishing, o)]</td>\n",
       "    </tr>\n",
       "    <tr>\n",
       "      <th>168</th>\n",
       "      <td>Myles Goodwyn Dies At 75</td>\n",
       "      <td>[(Myles, o), (Goodwyn, o), (Dies, o), (At, o), (75, o)]</td>\n",
       "      <td>[(Myles, Country), (Goodwyn, o), (Dies, o), (At, o), (75, o)]</td>\n",
       "    </tr>\n",
       "    <tr>\n",
       "      <th>216</th>\n",
       "      <td>Sleep Quality, Not Quantity, Could Be More Important: Study</td>\n",
       "      <td>[(Sleep, o), (Quality, o), (,, o), (Not, o), (Quantity, o), (,, o), (Could, o), (Be, o), (More, o), (Important, o), (:, o), (Study, o)]</td>\n",
       "      <td>[(Sleep, Country), (Quality, o), (,, o), (Not, o), (Quantity, o), (,, o), (Could, o), (Be, o), (More, o), (Important, o), (:, o), (Study, o)]</td>\n",
       "    </tr>\n",
       "    <tr>\n",
       "      <th>369</th>\n",
       "      <td>Ellie Goulding chats for 'ages' with ex Greg James at the BRITs - 11 years after their split</td>\n",
       "      <td>[(Ellie, o), (Goulding, o), (chats, o), (for, o), ('ages, o), (', o), (with, o), (ex, o), (Greg, o), (James, o), (at, o), (the, o), (BRITs, o), (-, o), (11, o), (years, o), (after, o), (their, o), (split, o)]</td>\n",
       "      <td>[(Ellie, Country), (Goulding, o), (chats, o), (for, o), ('ages, o), (', o), (with, o), (ex, o), (Greg, o), (James, o), (at, o), (the, o), (BRITs, o), (-, o), (11, o), (years, o), (after, o), (their, o), (split, o)]</td>\n",
       "    </tr>\n",
       "  </tbody>\n",
       "</table>\n",
       "</div>"
      ],
      "text/plain": [
       "                                                                                                                                                                      text  \\\n",
       "351                                                                                                                              Potato Chip-Chocolate Chip Cookies Recipe   \n",
       "175  Alicia Navarro, 18, has now fled with the 36-year-old man she was living with at a Montana apartment - days after autistic teen reappeared four years after vanishing   \n",
       "168                                                                                                                                               Myles Goodwyn Dies At 75   \n",
       "216                                                                                                            Sleep Quality, Not Quantity, Could Be More Important: Study   \n",
       "369                                                                           Ellie Goulding chats for 'ages' with ex Greg James at the BRITs - 11 years after their split   \n",
       "\n",
       "                                                                                                                                                                                                                                                                                                                                                         annotate  \\\n",
       "351                                                                                                                                                                                                                                                                                      [(Potato, o), (Chip-Chocolate, o), (Chip, o), (Cookies, o), (Recipe, o)]   \n",
       "175  [(Alicia, o), (Navarro, o), (,, o), (18, o), (,, o), (has, o), (now, o), (fled, o), (with, o), (the, o), (36-year-old, o), (man, o), (she, o), (was, o), (living, o), (with, o), (at, o), (a, o), (Montana, o), (apartment, o), (-, o), (days, o), (after, o), (autistic, o), (teen, o), (reappeared, o), (four, o), (years, o), (after, o), (vanishing, o)]   \n",
       "168                                                                                                                                                                                                                                                                                                       [(Myles, o), (Goodwyn, o), (Dies, o), (At, o), (75, o)]   \n",
       "216                                                                                                                                                                                                                       [(Sleep, o), (Quality, o), (,, o), (Not, o), (Quantity, o), (,, o), (Could, o), (Be, o), (More, o), (Important, o), (:, o), (Study, o)]   \n",
       "369                                                                                                                                              [(Ellie, o), (Goulding, o), (chats, o), (for, o), ('ages, o), (', o), (with, o), (ex, o), (Greg, o), (James, o), (at, o), (the, o), (BRITs, o), (-, o), (11, o), (years, o), (after, o), (their, o), (split, o)]   \n",
       "\n",
       "                                                                                                                                                                                                                                                                                                                                                                    hmm  \n",
       "351                                                                                                                                                                                                                                                                                      [(Potato, Country), (Chip-Chocolate, o), (Chip, o), (Cookies, o), (Recipe, o)]  \n",
       "175  [(Alicia, Country), (Navarro, o), (,, o), (18, o), (,, o), (has, o), (now, o), (fled, o), (with, o), (the, o), (36-year-old, o), (man, o), (she, o), (was, o), (living, o), (with, o), (at, o), (a, o), (Montana, o), (apartment, o), (-, o), (days, o), (after, o), (autistic, o), (teen, o), (reappeared, o), (four, o), (years, o), (after, o), (vanishing, o)]  \n",
       "168                                                                                                                                                                                                                                                                                                       [(Myles, Country), (Goodwyn, o), (Dies, o), (At, o), (75, o)]  \n",
       "216                                                                                                                                                                                                                       [(Sleep, Country), (Quality, o), (,, o), (Not, o), (Quantity, o), (,, o), (Could, o), (Be, o), (More, o), (Important, o), (:, o), (Study, o)]  \n",
       "369                                                                                                                                              [(Ellie, Country), (Goulding, o), (chats, o), (for, o), ('ages, o), (', o), (with, o), (ex, o), (Greg, o), (James, o), (at, o), (the, o), (BRITs, o), (-, o), (11, o), (years, o), (after, o), (their, o), (split, o)]  "
      ]
     },
     "execution_count": 717,
     "metadata": {},
     "output_type": "execute_result"
    }
   ],
   "source": [
    "df4[df4['annotate']!=df4['hmm']].sample(5)"
   ]
  },
  {
   "cell_type": "code",
   "execution_count": 718,
   "id": "7c8b64c1-756b-4e25-8080-7def7ca249db",
   "metadata": {},
   "outputs": [
    {
     "data": {
      "text/html": [
       "<div>\n",
       "<style scoped>\n",
       "    .dataframe tbody tr th:only-of-type {\n",
       "        vertical-align: middle;\n",
       "    }\n",
       "\n",
       "    .dataframe tbody tr th {\n",
       "        vertical-align: top;\n",
       "    }\n",
       "\n",
       "    .dataframe thead th {\n",
       "        text-align: right;\n",
       "    }\n",
       "</style>\n",
       "<table border=\"1\" class=\"dataframe\">\n",
       "  <thead>\n",
       "    <tr style=\"text-align: right;\">\n",
       "      <th></th>\n",
       "      <th>text</th>\n",
       "      <th>annotate</th>\n",
       "      <th>hmm</th>\n",
       "    </tr>\n",
       "  </thead>\n",
       "  <tbody>\n",
       "    <tr>\n",
       "      <th>476</th>\n",
       "      <td>AOC's bid to stop Jim Jordan becoming speaker: Squad member says New York Republicans won't back a man who voted to overturn the election or supports an abortion ban because they'll be voted out next</td>\n",
       "      <td>[(AOC, o), ('s, o), (bid, o), (to, o), (stop, o), (Jim, o), (Jordan, Country), (becoming, o), (speaker, o), (:, o), (Squad, o), (member, o), (says, o), (New, o), (York, o), (Republicans, o), (wo, o), (n't, o), (back, o), (a, o), (man, o), (who, o), (voted, o), (to, o), (overturn, o), (the, o), (election, o), (or, o), (supports, o), (an, o), (abortion, o), (ban, o), (because, o), (they, o), ('ll, o), (be, o), (voted, o), (out, o), (next, o)]</td>\n",
       "      <td>[(AOC, o), ('s, o), (bid, o), (to, o), (stop, o), (Jim, o), (Jordan, Country), (becoming, o), (speaker, o), (:, o), (Squad, o), (member, o), (says, o), (New, o), (York, o), (Republicans, o), (wo, o), (n't, o), (back, o), (a, o), (man, o), (who, o), (voted, o), (to, o), (overturn, o), (the, o), (election, o), (or, o), (supports, o), (an, o), (abortion, o), (ban, o), (because, o), (they, o), ('ll, o), (be, o), (voted, o), (out, o), (next, o)]</td>\n",
       "    </tr>\n",
       "    <tr>\n",
       "      <th>49</th>\n",
       "      <td>US mulls sending Ukraine cluster munitions in latest weapon opinion reversal</td>\n",
       "      <td>[(US, Country), (mulls, o), (sending, o), (Ukraine, o), (cluster, o), (munitions, o), (in, o), (latest, Country), (weapon, o), (opinion, o), (reversal, o)]</td>\n",
       "      <td>[(US, Country), (mulls, o), (sending, o), (Ukraine, o), (cluster, o), (munitions, o), (in, o), (latest, o), (weapon, o), (opinion, o), (reversal, o)]</td>\n",
       "    </tr>\n",
       "    <tr>\n",
       "      <th>442</th>\n",
       "      <td>IDF prepares for possible escalation: 'Hamas chose to go to war with us, we will win'</td>\n",
       "      <td>[(IDF, o), (prepares, o), (for, o), (possible, o), (escalation, o), (:, o), ('Hamas, o), (chose, o), (to, o), (go, o), (to, o), (war, o), (with, o), (us, o), (,, o), (we, o), (will, o), (win, o), (', o)]</td>\n",
       "      <td>[(IDF, o), (prepares, o), (for, o), (possible, o), (escalation, o), (:, o), ('Hamas, o), (chose, o), (to, o), (go, o), (to, o), (war, o), (with, o), (us, o), (,, o), (we, o), (will, o), (win, o), (', o)]</td>\n",
       "    </tr>\n",
       "    <tr>\n",
       "      <th>117</th>\n",
       "      <td>Five key takeaways from the Berlin Film Festival</td>\n",
       "      <td>[(Five, o), (key, o), (takeaways, o), (from, o), (the, o), (Berlin, o), (Film, o), (Festival, o)]</td>\n",
       "      <td>[(Five, o), (key, o), (takeaways, o), (from, o), (the, o), (Berlin, o), (Film, o), (Festival, o)]</td>\n",
       "    </tr>\n",
       "    <tr>\n",
       "      <th>110</th>\n",
       "      <td>Global impact: 5 ways war in Ukraine has changed the world</td>\n",
       "      <td>[(Global, o), (impact, o), (:, o), (5, o), (ways, o), (war, o), (in, o), (Ukraine, Country), (has, o), (changed, o), (the, o), (world, o)]</td>\n",
       "      <td>[(Global, o), (impact, o), (:, o), (5, o), (ways, o), (war, o), (in, o), (Ukraine, o), (has, o), (changed, o), (the, o), (world, o)]</td>\n",
       "    </tr>\n",
       "  </tbody>\n",
       "</table>\n",
       "</div>"
      ],
      "text/plain": [
       "                                                                                                                                                                                                         text  \\\n",
       "476  AOC's bid to stop Jim Jordan becoming speaker: Squad member says New York Republicans won't back a man who voted to overturn the election or supports an abortion ban because they'll be voted out next    \n",
       "49                                                                                                                               US mulls sending Ukraine cluster munitions in latest weapon opinion reversal   \n",
       "442                                                                                                                     IDF prepares for possible escalation: 'Hamas chose to go to war with us, we will win'   \n",
       "117                                                                                                                                                          Five key takeaways from the Berlin Film Festival   \n",
       "110                                                                                                                                                Global impact: 5 ways war in Ukraine has changed the world   \n",
       "\n",
       "                                                                                                                                                                                                                                                                                                                                                                                                                                                         annotate  \\\n",
       "476  [(AOC, o), ('s, o), (bid, o), (to, o), (stop, o), (Jim, o), (Jordan, Country), (becoming, o), (speaker, o), (:, o), (Squad, o), (member, o), (says, o), (New, o), (York, o), (Republicans, o), (wo, o), (n't, o), (back, o), (a, o), (man, o), (who, o), (voted, o), (to, o), (overturn, o), (the, o), (election, o), (or, o), (supports, o), (an, o), (abortion, o), (ban, o), (because, o), (they, o), ('ll, o), (be, o), (voted, o), (out, o), (next, o)]   \n",
       "49                                                                                                                                                                                                                                                                                                    [(US, Country), (mulls, o), (sending, o), (Ukraine, o), (cluster, o), (munitions, o), (in, o), (latest, Country), (weapon, o), (opinion, o), (reversal, o)]   \n",
       "442                                                                                                                                                                                                                                                   [(IDF, o), (prepares, o), (for, o), (possible, o), (escalation, o), (:, o), ('Hamas, o), (chose, o), (to, o), (go, o), (to, o), (war, o), (with, o), (us, o), (,, o), (we, o), (will, o), (win, o), (', o)]   \n",
       "117                                                                                                                                                                                                                                                                                                                                                             [(Five, o), (key, o), (takeaways, o), (from, o), (the, o), (Berlin, o), (Film, o), (Festival, o)]   \n",
       "110                                                                                                                                                                                                                                                                                                                    [(Global, o), (impact, o), (:, o), (5, o), (ways, o), (war, o), (in, o), (Ukraine, Country), (has, o), (changed, o), (the, o), (world, o)]   \n",
       "\n",
       "                                                                                                                                                                                                                                                                                                                                                                                                                                                              hmm  \n",
       "476  [(AOC, o), ('s, o), (bid, o), (to, o), (stop, o), (Jim, o), (Jordan, Country), (becoming, o), (speaker, o), (:, o), (Squad, o), (member, o), (says, o), (New, o), (York, o), (Republicans, o), (wo, o), (n't, o), (back, o), (a, o), (man, o), (who, o), (voted, o), (to, o), (overturn, o), (the, o), (election, o), (or, o), (supports, o), (an, o), (abortion, o), (ban, o), (because, o), (they, o), ('ll, o), (be, o), (voted, o), (out, o), (next, o)]  \n",
       "49                                                                                                                                                                                                                                                                                                          [(US, Country), (mulls, o), (sending, o), (Ukraine, o), (cluster, o), (munitions, o), (in, o), (latest, o), (weapon, o), (opinion, o), (reversal, o)]  \n",
       "442                                                                                                                                                                                                                                                   [(IDF, o), (prepares, o), (for, o), (possible, o), (escalation, o), (:, o), ('Hamas, o), (chose, o), (to, o), (go, o), (to, o), (war, o), (with, o), (us, o), (,, o), (we, o), (will, o), (win, o), (', o)]  \n",
       "117                                                                                                                                                                                                                                                                                                                                                             [(Five, o), (key, o), (takeaways, o), (from, o), (the, o), (Berlin, o), (Film, o), (Festival, o)]  \n",
       "110                                                                                                                                                                                                                                                                                                                          [(Global, o), (impact, o), (:, o), (5, o), (ways, o), (war, o), (in, o), (Ukraine, o), (has, o), (changed, o), (the, o), (world, o)]  "
      ]
     },
     "execution_count": 718,
     "metadata": {},
     "output_type": "execute_result"
    }
   ],
   "source": [
    "df4.sample(5)"
   ]
  },
  {
   "cell_type": "markdown",
   "id": "3a65f0c8-4574-4e49-8510-3848e046e21a",
   "metadata": {},
   "source": [
    "## Explore how it broke\n",
    "- Periods in acronyms are a bear to deal with in regex"
   ]
  },
  {
   "cell_type": "code",
   "execution_count": 663,
   "id": "75ddaabc-f2da-468c-bc9c-b2d0e2a9c623",
   "metadata": {},
   "outputs": [
    {
     "data": {
      "text/plain": [
       "[('U.S.', 'o'),\n",
       " ('officials', 'o'),\n",
       " ('found', 'o'),\n",
       " ('eating', 'o'),\n",
       " ('cheezits', 'o'),\n",
       " ('under', 'o'),\n",
       " ('the', 'o'),\n",
       " ('bleachers', 'o')]"
      ]
     },
     "execution_count": 663,
     "metadata": {},
     "output_type": "execute_result"
    }
   ],
   "source": [
    "hmm_tagger.tag(twt.tokenize(\"U.S. officials found eating cheezits under the bleachers\"))"
   ]
  },
  {
   "cell_type": "code",
   "execution_count": 664,
   "id": "c6130c9e-6d03-4ccb-9131-4ff52f2ca330",
   "metadata": {},
   "outputs": [
    {
     "data": {
      "text/plain": [
       "[('U.S.', 'o'),\n",
       " ('officials', 'o'),\n",
       " ('found', 'o'),\n",
       " ('eating', 'o'),\n",
       " ('cheezits', 'o'),\n",
       " ('under', 'o'),\n",
       " ('the', 'o'),\n",
       " ('bleachers', 'o')]"
      ]
     },
     "execution_count": 664,
     "metadata": {},
     "output_type": "execute_result"
    }
   ],
   "source": [
    "annotate(\"U.S. officials found eating cheezits under the bleachers\")"
   ]
  },
  {
   "cell_type": "code",
   "execution_count": 666,
   "id": "97268236-328e-425d-beb3-2df2b70011c8",
   "metadata": {},
   "outputs": [
    {
     "data": {
      "text/plain": [
       "[('Biden', 'Country'),\n",
       " ('and', 'o'),\n",
       " ('Putin', 'o'),\n",
       " ('had', 'o'),\n",
       " ('lunch', 'o'),\n",
       " ('in', 'o'),\n",
       " ('Moscow', 'o'),\n",
       " (',', 'o'),\n",
       " ('waiting', 'o'),\n",
       " ('for', 'o'),\n",
       " ('a', 'o'),\n",
       " ('call', 'o'),\n",
       " ('from', 'o'),\n",
       " ('Egypt', 'o')]"
      ]
     },
     "execution_count": 666,
     "metadata": {},
     "output_type": "execute_result"
    }
   ],
   "source": [
    "hmm_tagger.tag(twt.tokenize(\"Biden and Putin had lunch in Moscow, waiting for a call from Egypt\"))"
   ]
  },
  {
   "cell_type": "code",
   "execution_count": 719,
   "id": "da44532d-122a-4ea1-8f62-d0eccd7d8036",
   "metadata": {},
   "outputs": [
    {
     "data": {
      "text/plain": [
       "[('Biden', 'Country'),\n",
       " ('and', 'o'),\n",
       " ('Putin', 'o'),\n",
       " ('had', 'o'),\n",
       " ('lunch', 'o'),\n",
       " ('in', 'o'),\n",
       " ('Moscow', 'o'),\n",
       " (',', 'o'),\n",
       " ('waiting', 'o'),\n",
       " ('for', 'Country'),\n",
       " ('a', 'o'),\n",
       " ('call', 'o'),\n",
       " ('from', 'o'),\n",
       " ('Egypt', 'o')]"
      ]
     },
     "execution_count": 719,
     "metadata": {},
     "output_type": "execute_result"
    }
   ],
   "source": [
    "annotate(\"Biden and Putin had lunch in Moscow, waiting for a call from Egypt\")"
   ]
  },
  {
   "cell_type": "code",
   "execution_count": null,
   "id": "be61f24e-4000-4ccc-8b0e-ea617983f99d",
   "metadata": {},
   "outputs": [],
   "source": []
  }
 ],
 "metadata": {
  "kernelspec": {
   "display_name": "Python 3 (ipykernel)",
   "language": "python",
   "name": "python3"
  },
  "language_info": {
   "codemirror_mode": {
    "name": "ipython",
    "version": 3
   },
   "file_extension": ".py",
   "mimetype": "text/x-python",
   "name": "python",
   "nbconvert_exporter": "python",
   "pygments_lexer": "ipython3",
   "version": "3.10.13"
  }
 },
 "nbformat": 4,
 "nbformat_minor": 5
}
