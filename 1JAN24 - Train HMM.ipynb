{
 "cells": [
  {
   "cell_type": "code",
   "execution_count": null,
   "id": "d7a4ca05-4266-48cd-a655-202284374721",
   "metadata": {},
   "outputs": [],
   "source": [
    "import nltk\n",
    "from nltk.corpus import treebank\n",
    "from nltk.tag.hmm import HiddenMarkovModelTagger\n",
    "from nltk.tokenize import word_tokenize\n",
    "from nltk.tokenize import treebank\n",
    "import yaml\n",
    "import pandas as pd\n",
    "import re\n",
    "from yaml import safe_load\n",
    "from sqlalchemy.dialects import postgresql\n",
    "from sqlalchemy import Integer, Numeric, String, DateTime, create_engine\n",
    "import psycopg2\n",
    "from nltk.tokenize import TreebankWordTokenizer\n",
    "twt = TreebankWordTokenizer()\n",
    "import random\n",
    "from tqdm import tqdm\n",
    "tqdm.pandas()\n",
    "from sklearn.model_selection import train_test_split\n",
    "import os\n",
    "from dotenv import load_dotenv\n",
    "load_dotenv()"
   ]
  },
  {
   "cell_type": "code",
   "execution_count": 505,
   "id": "2d8a3a67-c81c-4159-afca-83610c764ae0",
   "metadata": {},
   "outputs": [],
   "source": [
    "pd.set_option('max_colwidth', 1000)"
   ]
  },
  {
   "cell_type": "code",
   "execution_count": null,
   "id": "d97a3ab6-b723-47fa-b6f0-6d41e15cd1d7",
   "metadata": {},
   "outputs": [],
   "source": []
  },
  {
   "cell_type": "code",
   "execution_count": 749,
   "id": "2b39b02e-2067-4bb1-87fd-3a992d303e02",
   "metadata": {},
   "outputs": [],
   "source": [
    "input_sentence = 'Turkish official says death toll from earthquake is now at 284, bringing overall death toll in Turkey and Syria to 568'"
   ]
  },
  {
   "cell_type": "code",
   "execution_count": 798,
   "id": "6b7d4811-a501-46e1-8e33-98685f476053",
   "metadata": {},
   "outputs": [],
   "source": [
    "def is_inside(token_span, regex_spans):\n",
    "    span_membership = []\n",
    "    for regex_span in regex_spans:\n",
    "        if (token_span[0] >= regex_span[0]) & (token_span[1] <= regex_span[1]):\n",
    "            span_membership.append(True) \n",
    "        else:\n",
    "            span_membership.append(False)\n",
    "    return span_membership\n",
    "\n",
    "def make_unicode(inp):\n",
    "    if type(inp) != unicode:\n",
    "        inp =  inp.decode('utf-8')\n",
    "    return inp\n",
    "\n",
    "def kw_query(query_word):\n",
    "    \"\"\"\n",
    "    Grab a random bit of text that references your keyword query\n",
    "\n",
    "    This is problematic because some returns only have the country at the beginning of the text; we want more flavor than that.\n",
    "    \"\"\"\n",
    "    \n",
    "    connection = psycopg2.connect(user=user,\n",
    "                              password=password,\n",
    "                              host=host,\n",
    "                              port=port,\n",
    "                              database=database)\n",
    "    cursor = connection.cursor()\n",
    "    \n",
    "    sql = f'''SELECT title FROM articles WHERE title ~ '(?!^)\\y{query_word.replace(\"'\",\"\")}\\y' limit 1'''\n",
    "\n",
    "    cursor.execute(sql)\n",
    "    # print(\"Selecting rows from mobile table using cursor.fetchall\")\n",
    "    result = cursor.fetchone()\n",
    "    connection.close()\n",
    "    # print(type(result))\n",
    "    # print(result)\n",
    "    # print(len(result))\n",
    "    if result != None:\n",
    "        return result[0]\n",
    "    else:\n",
    "        return None\n",
    "\n",
    "def flatten_extend(matrix):\n",
    "     flat_list = []\n",
    "     for row in matrix:\n",
    "         flat_list.extend(row)\n",
    "     return flat_list\n",
    "\n",
    "def annotate(input_sentence):\n",
    "    \"\"\"\n",
    "    1. REGEX search the input text for country names, getting the appropriate span-match\n",
    "    2. Word tokenize, and span tokenize\n",
    "    3. Compare the span-tokenized spans to the regex spans\n",
    "    4. Poop out annotated docs\n",
    "    \"\"\"\n",
    "    ## Regex search for country names\n",
    "    regex_hits = {}\n",
    "    for match in regex_query.finditer(input_sentence):\n",
    "        regex_hits[(match.start(), match.end())] = match.group()\n",
    "\n",
    "    ## Tokenization\n",
    "    tokens = [x for x in twt.tokenize(input_sentence)]\n",
    "    token_spans = [x for x in twt.span_tokenize(input_sentence)]\n",
    "\n",
    "    ## Stop early if there's no country mention\n",
    "    if len(regex_hits)<1:\n",
    "        return [(token, 'o') for token in tokens]\n",
    "    \n",
    "    ## Compare the REGEX and Tokenized spans    \n",
    "    xyz = []\n",
    "    for token_span in token_spans:\n",
    "        if any(is_inside(token_span, list(regex_hits.keys()))):\n",
    "            xyz.append('Country')\n",
    "        else:\n",
    "            xyz.append(\"o\")\n",
    "            \n",
    "    return list(zip(tokens, xyz))\n",
    "\n",
    "def get_random_titles(limit=25):\n",
    "    connection = psycopg2.connect(user=user,\n",
    "                              password=password,\n",
    "                              host=host,\n",
    "                              port=port,\n",
    "                              database=database)\n",
    "    cursor = connection.cursor()\n",
    "    \n",
    "    sql = f'''SELECT title FROM articles ORDER BY random() LIMIT {limit};'''\n",
    "    \n",
    "    cursor.execute(sql)\n",
    "    # print(\"Selecting rows from mobile table using cursor.fetchall\")\n",
    "    result = cursor.fetchall()\n",
    "    connection.close()\n",
    "\n",
    "    return result\n",
    "\n",
    "from nltk.tag.hmm import HiddenMarkovModelTagger\n",
    "\n",
    "def train_hmm(train, dev):\n",
    "    \"\"\"\n",
    "    Train an HMM tagger on the training set provided\n",
    "    \"\"\"\n",
    "    \n",
    "    hmm_tagger = HiddenMarkovModelTagger.train(train, dev)\n",
    "    \n",
    "    return hmm_tagger"
   ]
  },
  {
   "cell_type": "raw",
   "id": "eb27e6d8-271d-4216-a119-b3e3b49da8b1",
   "metadata": {},
   "source": [
    "query_word = 'Afghanistan'\n",
    "\n",
    "connection = psycopg2.connect(user=user,\n",
    "                          password=password,\n",
    "                          host=host,\n",
    "                          port=port,\n",
    "                          database=database)\n",
    "cursor = connection.cursor()\n",
    "\n",
    "sql = f'''SELECT title FROM articles WHERE title ~ '(?!^)\\y{query_word.replace(\"'\",\"\")}\\y' limit 1'''\n",
    "\n",
    "cursor.execute(sql)\n",
    "# print(\"Selecting rows from mobile table using cursor.fetchall\")\n",
    "result = cursor.fetchone()\n",
    "connection.close()\n",
    "# print(type(result))\n",
    "# print(result)\n",
    "# print(len(result))\n",
    "result"
   ]
  },
  {
   "cell_type": "markdown",
   "id": "c2fe699e-9c4d-4956-8bf2-487317ae2940",
   "metadata": {},
   "source": [
    "## Connect to DB"
   ]
  },
  {
   "cell_type": "code",
   "execution_count": 5,
   "id": "9daeff63-5047-4ed3-b945-fce36c9e459e",
   "metadata": {},
   "outputs": [],
   "source": [
    "database = os.getenv('DATABASE')\n",
    "host = os.getenv('DBHOST')\n",
    "port = os.getenv('DBPORT')\n",
    "user = os.getenv('DBUSER')\n",
    "password = os.getenv('DBPASSWORD')"
   ]
  },
  {
   "cell_type": "code",
   "execution_count": 8,
   "id": "08550e29-098f-45ed-8422-37c48cd577bd",
   "metadata": {},
   "outputs": [],
   "source": [
    "conn_string = fr'postgresql+psycopg2://{user}:{password}@{host}/{database}'\n",
    "db = create_engine(conn_string)\n",
    "conn = db.connect()"
   ]
  },
  {
   "cell_type": "markdown",
   "id": "3144aaaf-281e-4bc6-8c3f-d2ec96f9f8f7",
   "metadata": {},
   "source": [
    "## Load and munge data"
   ]
  },
  {
   "cell_type": "code",
   "execution_count": 800,
   "id": "690e3070-786f-4a3d-8df1-a7d9961ef3fd",
   "metadata": {},
   "outputs": [
    {
     "data": {
      "text/html": [
       "<div>\n",
       "<style scoped>\n",
       "    .dataframe tbody tr th:only-of-type {\n",
       "        vertical-align: middle;\n",
       "    }\n",
       "\n",
       "    .dataframe tbody tr th {\n",
       "        vertical-align: top;\n",
       "    }\n",
       "\n",
       "    .dataframe thead th {\n",
       "        text-align: right;\n",
       "    }\n",
       "</style>\n",
       "<table border=\"1\" class=\"dataframe\">\n",
       "  <thead>\n",
       "    <tr style=\"text-align: right;\">\n",
       "      <th></th>\n",
       "      <th>aliases</th>\n",
       "      <th>alpha2</th>\n",
       "      <th>alpha3</th>\n",
       "      <th>fifa</th>\n",
       "      <th>ioc</th>\n",
       "      <th>iso_name</th>\n",
       "      <th>numeric</th>\n",
       "      <th>official</th>\n",
       "      <th>short</th>\n",
       "      <th>emoji</th>\n",
       "      <th>shortcode</th>\n",
       "      <th>simple</th>\n",
       "      <th>example</th>\n",
       "      <th>annotated</th>\n",
       "    </tr>\n",
       "  </thead>\n",
       "  <tbody>\n",
       "    <tr>\n",
       "      <th>AD</th>\n",
       "      <td>[Principality of the Valleys of Andorra]</td>\n",
       "      <td>AD</td>\n",
       "      <td>AND</td>\n",
       "      <td>AND</td>\n",
       "      <td>AND</td>\n",
       "      <td>Andorra</td>\n",
       "      <td>20</td>\n",
       "      <td>Principality of Andorra</td>\n",
       "      <td>Andorra</td>\n",
       "      <td>🇦🇩</td>\n",
       "      <td>:flag-ad:</td>\n",
       "      <td>NaN</td>\n",
       "      <td>Pique to move, rename FC Andorra after stadium row with govt.</td>\n",
       "      <td>[(Pique, o), (to, o), (move, o), (,, o), (rename, o), (FC, o), (Andorra, Country), (after, o), (stadium, o), (row, o), (with, o), (govt, o), (., o)]</td>\n",
       "    </tr>\n",
       "    <tr>\n",
       "      <th>AE</th>\n",
       "      <td>[Emirates, UAE]</td>\n",
       "      <td>AE</td>\n",
       "      <td>ARE</td>\n",
       "      <td>UAE</td>\n",
       "      <td>UAE</td>\n",
       "      <td>United Arab Emirates</td>\n",
       "      <td>784</td>\n",
       "      <td>United Arab Emirates</td>\n",
       "      <td>United Arab Emirates</td>\n",
       "      <td>🇦🇪</td>\n",
       "      <td>:flag-ae:</td>\n",
       "      <td>NaN</td>\n",
       "      <td>Ashes hero Andrew Flintoff to continue coaching stint after horror Top Gear smash by mentoring England Lions on their training camp in United Arab Emirates</td>\n",
       "      <td>[(Ashes, o), (hero, o), (Andrew, o), (Flintoff, o), (to, o), (continue, o), (coaching, o), (stint, o), (after, o), (horror, o), (Top, o), (Gear, o), (smash, o), (by, o), (mentoring, o), (England, o), (Lions, o), (on, o), (their, o), (training, o), (camp, o), (in, o), (United, Country), (Arab, Country), (Emirates, Country)]</td>\n",
       "    </tr>\n",
       "    <tr>\n",
       "      <th>AF</th>\n",
       "      <td>NaN</td>\n",
       "      <td>AF</td>\n",
       "      <td>AFG</td>\n",
       "      <td>AFG</td>\n",
       "      <td>AFG</td>\n",
       "      <td>Afghanistan</td>\n",
       "      <td>4</td>\n",
       "      <td>Islamic Republic of Afghanistan</td>\n",
       "      <td>Afghanistan</td>\n",
       "      <td>🇦🇫</td>\n",
       "      <td>:flag-af:</td>\n",
       "      <td>NaN</td>\n",
       "      <td>Afghanistan: Latest news, breaking stories and comment</td>\n",
       "      <td>[(Afghanistan, Country), (:, o), (Latest, o), (news, o), (,, o), (breaking, o), (stories, o), (and, o), (comment, o)]</td>\n",
       "    </tr>\n",
       "    <tr>\n",
       "      <th>AG</th>\n",
       "      <td>NaN</td>\n",
       "      <td>AG</td>\n",
       "      <td>ATG</td>\n",
       "      <td>ATG</td>\n",
       "      <td>ANT</td>\n",
       "      <td>Antigua and Barbuda</td>\n",
       "      <td>28</td>\n",
       "      <td>Antigua and Barbuda</td>\n",
       "      <td>Antigua and Barbuda</td>\n",
       "      <td>🇦🇬</td>\n",
       "      <td>:flag-ag:</td>\n",
       "      <td>NaN</td>\n",
       "      <td>Antigua and Barbuda is preparing to auction off an 'abandoned' $81 million superyacht linked to a Russian oligarch, reports say</td>\n",
       "      <td>[(Antigua, Country), (and, Country), (Barbuda, Country), (is, o), (preparing, o), (to, o), (auction, o), (off, o), (an, o), ('abandoned, o), (', o), ($, o), (81, o), (million, o), (superyacht, o), (linked, o), (to, o), (a, o), (Russian, Country), (oligarch, o), (,, o), (reports, o), (say, o)]</td>\n",
       "    </tr>\n",
       "    <tr>\n",
       "      <th>AI</th>\n",
       "      <td>NaN</td>\n",
       "      <td>AI</td>\n",
       "      <td>AIA</td>\n",
       "      <td>None</td>\n",
       "      <td>None</td>\n",
       "      <td>Anguilla</td>\n",
       "      <td>660</td>\n",
       "      <td>Anguilla</td>\n",
       "      <td>Anguilla</td>\n",
       "      <td>🇦🇮</td>\n",
       "      <td>:flag-ai:</td>\n",
       "      <td>NaN</td>\n",
       "      <td>Real Housewives Of New York City: Jenna Lyons and Brynn Whitfield outrageously flirt with each other during group trip to Anguilla</td>\n",
       "      <td>[(Real, o), (Housewives, o), (Of, o), (New, o), (York, o), (City, o), (:, o), (Jenna, o), (Lyons, o), (and, o), (Brynn, o), (Whitfield, o), (outrageously, o), (flirt, o), (with, o), (each, o), (other, o), (during, o), (group, o), (trip, o), (to, o), (Anguilla, Country)]</td>\n",
       "    </tr>\n",
       "    <tr>\n",
       "      <th>...</th>\n",
       "      <td>...</td>\n",
       "      <td>...</td>\n",
       "      <td>...</td>\n",
       "      <td>...</td>\n",
       "      <td>...</td>\n",
       "      <td>...</td>\n",
       "      <td>...</td>\n",
       "      <td>...</td>\n",
       "      <td>...</td>\n",
       "      <td>...</td>\n",
       "      <td>...</td>\n",
       "      <td>...</td>\n",
       "      <td>...</td>\n",
       "      <td>...</td>\n",
       "    </tr>\n",
       "    <tr>\n",
       "      <th>YE</th>\n",
       "      <td>NaN</td>\n",
       "      <td>YE</td>\n",
       "      <td>YEM</td>\n",
       "      <td>YEM</td>\n",
       "      <td>YEM</td>\n",
       "      <td>Yemen</td>\n",
       "      <td>887</td>\n",
       "      <td>Republic of Yemen</td>\n",
       "      <td>Yemen</td>\n",
       "      <td>🇾🇪</td>\n",
       "      <td>:flag-ye:</td>\n",
       "      <td>NaN</td>\n",
       "      <td>Saudi Arabia to grant Yemen $1.2 billion in economic aid</td>\n",
       "      <td>[(Saudi, Country), (Arabia, o), (to, o), (grant, o), (Yemen, Country), ($, o), (1.2, o), (billion, o), (in, o), (economic, o), (aid, o)]</td>\n",
       "    </tr>\n",
       "    <tr>\n",
       "      <th>YT</th>\n",
       "      <td>NaN</td>\n",
       "      <td>YT</td>\n",
       "      <td>MYT</td>\n",
       "      <td>None</td>\n",
       "      <td>None</td>\n",
       "      <td>Mayotte</td>\n",
       "      <td>175</td>\n",
       "      <td>Department of Mayotte</td>\n",
       "      <td>Mayotte</td>\n",
       "      <td>🇾🇹</td>\n",
       "      <td>:flag-yt:</td>\n",
       "      <td>NaN</td>\n",
       "      <td>Boat capsizes off Madagascar on way to Mayotte, 22 killed</td>\n",
       "      <td>[(Boat, o), (capsizes, o), (off, o), (Madagascar, Country), (on, o), (way, o), (to, o), (Mayotte, Country), (,, o), (22, o), (killed, o)]</td>\n",
       "    </tr>\n",
       "    <tr>\n",
       "      <th>ZA</th>\n",
       "      <td>NaN</td>\n",
       "      <td>ZA</td>\n",
       "      <td>ZAF</td>\n",
       "      <td>RSA</td>\n",
       "      <td>RSA</td>\n",
       "      <td>South Africa</td>\n",
       "      <td>710</td>\n",
       "      <td>Republic of South Africa</td>\n",
       "      <td>South Africa</td>\n",
       "      <td>🇿🇦</td>\n",
       "      <td>:flag-za:</td>\n",
       "      <td>NaN</td>\n",
       "      <td>Drakensberg Park: The First Shamans of South Africa | Arkeo Ep27 I Documentary</td>\n",
       "      <td>[(Drakensberg, o), (Park, o), (:, o), (The, o), (First, o), (Shamans, o), (of, o), (South, Country), (Africa, Country), (|, o), (Arkeo, o), (Ep27, o), (I, o), (Documentary, o)]</td>\n",
       "    </tr>\n",
       "    <tr>\n",
       "      <th>ZM</th>\n",
       "      <td>NaN</td>\n",
       "      <td>ZM</td>\n",
       "      <td>ZMB</td>\n",
       "      <td>ZAM</td>\n",
       "      <td>ZAM</td>\n",
       "      <td>Zambia</td>\n",
       "      <td>894</td>\n",
       "      <td>Republic of Zambia</td>\n",
       "      <td>Zambia</td>\n",
       "      <td>🇿🇲</td>\n",
       "      <td>:flag-zm:</td>\n",
       "      <td>NaN</td>\n",
       "      <td>Exclusive: Zambia sent bondholders debt restructuring proposal, finance ministry says</td>\n",
       "      <td>[(Exclusive, o), (:, o), (Zambia, Country), (sent, o), (bondholders, o), (debt, o), (restructuring, o), (proposal, o), (,, o), (finance, o), (ministry, o), (says, o)]</td>\n",
       "    </tr>\n",
       "    <tr>\n",
       "      <th>ZW</th>\n",
       "      <td>NaN</td>\n",
       "      <td>ZW</td>\n",
       "      <td>ZWE</td>\n",
       "      <td>ZIM</td>\n",
       "      <td>ZIM</td>\n",
       "      <td>Zimbabwe</td>\n",
       "      <td>716</td>\n",
       "      <td>Republic of Zimbabwe</td>\n",
       "      <td>Zimbabwe</td>\n",
       "      <td>🇿🇼</td>\n",
       "      <td>:flag-zw:</td>\n",
       "      <td>NaN</td>\n",
       "      <td>Zimbabwe's tobacco crop grows, despite high fertilizer costs</td>\n",
       "      <td>[(Zimbabwe, Country), ('s, o), (tobacco, o), (crop, o), (grows, o), (,, o), (despite, o), (high, o), (fertilizer, o), (costs, o)]</td>\n",
       "    </tr>\n",
       "  </tbody>\n",
       "</table>\n",
       "<p>205 rows × 14 columns</p>\n",
       "</div>"
      ],
      "text/plain": [
       "                                     aliases alpha2 alpha3  fifa   ioc  \\\n",
       "AD  [Principality of the Valleys of Andorra]     AD    AND   AND   AND   \n",
       "AE                           [Emirates, UAE]     AE    ARE   UAE   UAE   \n",
       "AF                                       NaN     AF    AFG   AFG   AFG   \n",
       "AG                                       NaN     AG    ATG   ATG   ANT   \n",
       "AI                                       NaN     AI    AIA  None  None   \n",
       "..                                       ...    ...    ...   ...   ...   \n",
       "YE                                       NaN     YE    YEM   YEM   YEM   \n",
       "YT                                       NaN     YT    MYT  None  None   \n",
       "ZA                                       NaN     ZA    ZAF   RSA   RSA   \n",
       "ZM                                       NaN     ZM    ZMB   ZAM   ZAM   \n",
       "ZW                                       NaN     ZW    ZWE   ZIM   ZIM   \n",
       "\n",
       "                iso_name numeric                         official  \\\n",
       "AD               Andorra      20          Principality of Andorra   \n",
       "AE  United Arab Emirates     784             United Arab Emirates   \n",
       "AF           Afghanistan       4  Islamic Republic of Afghanistan   \n",
       "AG   Antigua and Barbuda      28              Antigua and Barbuda   \n",
       "AI              Anguilla     660                         Anguilla   \n",
       "..                   ...     ...                              ...   \n",
       "YE                 Yemen     887                Republic of Yemen   \n",
       "YT               Mayotte     175            Department of Mayotte   \n",
       "ZA          South Africa     710         Republic of South Africa   \n",
       "ZM                Zambia     894               Republic of Zambia   \n",
       "ZW              Zimbabwe     716             Republic of Zimbabwe   \n",
       "\n",
       "                   short emoji  shortcode simple  \\\n",
       "AD               Andorra    🇦🇩  :flag-ad:    NaN   \n",
       "AE  United Arab Emirates    🇦🇪  :flag-ae:    NaN   \n",
       "AF           Afghanistan    🇦🇫  :flag-af:    NaN   \n",
       "AG   Antigua and Barbuda    🇦🇬  :flag-ag:    NaN   \n",
       "AI              Anguilla    🇦🇮  :flag-ai:    NaN   \n",
       "..                   ...   ...        ...    ...   \n",
       "YE                 Yemen    🇾🇪  :flag-ye:    NaN   \n",
       "YT               Mayotte    🇾🇹  :flag-yt:    NaN   \n",
       "ZA          South Africa    🇿🇦  :flag-za:    NaN   \n",
       "ZM                Zambia    🇿🇲  :flag-zm:    NaN   \n",
       "ZW              Zimbabwe    🇿🇼  :flag-zw:    NaN   \n",
       "\n",
       "                                                                                                                                                        example  \\\n",
       "AD                                                                                                Pique to move, rename FC Andorra after stadium row with govt.   \n",
       "AE  Ashes hero Andrew Flintoff to continue coaching stint after horror Top Gear smash by mentoring England Lions on their training camp in United Arab Emirates   \n",
       "AF                                                                                                       Afghanistan: Latest news, breaking stories and comment   \n",
       "AG                              Antigua and Barbuda is preparing to auction off an 'abandoned' $81 million superyacht linked to a Russian oligarch, reports say   \n",
       "AI                           Real Housewives Of New York City: Jenna Lyons and Brynn Whitfield outrageously flirt with each other during group trip to Anguilla   \n",
       "..                                                                                                                                                          ...   \n",
       "YE                                                                                                     Saudi Arabia to grant Yemen $1.2 billion in economic aid   \n",
       "YT                                                                                                    Boat capsizes off Madagascar on way to Mayotte, 22 killed   \n",
       "ZA                                                                               Drakensberg Park: The First Shamans of South Africa | Arkeo Ep27 I Documentary   \n",
       "ZM                                                                        Exclusive: Zambia sent bondholders debt restructuring proposal, finance ministry says   \n",
       "ZW                                                                                                 Zimbabwe's tobacco crop grows, despite high fertilizer costs   \n",
       "\n",
       "                                                                                                                                                                                                                                                                                                                               annotated  \n",
       "AD                                                                                                                                                                                  [(Pique, o), (to, o), (move, o), (,, o), (rename, o), (FC, o), (Andorra, Country), (after, o), (stadium, o), (row, o), (with, o), (govt, o), (., o)]  \n",
       "AE  [(Ashes, o), (hero, o), (Andrew, o), (Flintoff, o), (to, o), (continue, o), (coaching, o), (stint, o), (after, o), (horror, o), (Top, o), (Gear, o), (smash, o), (by, o), (mentoring, o), (England, o), (Lions, o), (on, o), (their, o), (training, o), (camp, o), (in, o), (United, Country), (Arab, Country), (Emirates, Country)]  \n",
       "AF                                                                                                                                                                                                                 [(Afghanistan, Country), (:, o), (Latest, o), (news, o), (,, o), (breaking, o), (stories, o), (and, o), (comment, o)]  \n",
       "AG                                 [(Antigua, Country), (and, Country), (Barbuda, Country), (is, o), (preparing, o), (to, o), (auction, o), (off, o), (an, o), ('abandoned, o), (', o), ($, o), (81, o), (million, o), (superyacht, o), (linked, o), (to, o), (a, o), (Russian, Country), (oligarch, o), (,, o), (reports, o), (say, o)]  \n",
       "AI                                                        [(Real, o), (Housewives, o), (Of, o), (New, o), (York, o), (City, o), (:, o), (Jenna, o), (Lyons, o), (and, o), (Brynn, o), (Whitfield, o), (outrageously, o), (flirt, o), (with, o), (each, o), (other, o), (during, o), (group, o), (trip, o), (to, o), (Anguilla, Country)]  \n",
       "..                                                                                                                                                                                                                                                                                                                                   ...  \n",
       "YE                                                                                                                                                                                              [(Saudi, Country), (Arabia, o), (to, o), (grant, o), (Yemen, Country), ($, o), (1.2, o), (billion, o), (in, o), (economic, o), (aid, o)]  \n",
       "YT                                                                                                                                                                                             [(Boat, o), (capsizes, o), (off, o), (Madagascar, Country), (on, o), (way, o), (to, o), (Mayotte, Country), (,, o), (22, o), (killed, o)]  \n",
       "ZA                                                                                                                                                      [(Drakensberg, o), (Park, o), (:, o), (The, o), (First, o), (Shamans, o), (of, o), (South, Country), (Africa, Country), (|, o), (Arkeo, o), (Ep27, o), (I, o), (Documentary, o)]  \n",
       "ZM                                                                                                                                                                [(Exclusive, o), (:, o), (Zambia, Country), (sent, o), (bondholders, o), (debt, o), (restructuring, o), (proposal, o), (,, o), (finance, o), (ministry, o), (says, o)]  \n",
       "ZW                                                                                                                                                                                                     [(Zimbabwe, Country), ('s, o), (tobacco, o), (crop, o), (grows, o), (,, o), (despite, o), (high, o), (fertilizer, o), (costs, o)]  \n",
       "\n",
       "[205 rows x 14 columns]"
      ]
     },
     "execution_count": 800,
     "metadata": {},
     "output_type": "execute_result"
    }
   ],
   "source": [
    "df['example']"
   ]
  },
  {
   "cell_type": "code",
   "execution_count": 11,
   "id": "247d7b24-d158-45d7-b203-0cc7a4547347",
   "metadata": {},
   "outputs": [],
   "source": [
    "with open(\"en.yml\", \"r\") as f:\n",
    "    try:\n",
    "        countries = (yaml.safe_load(f))\n",
    "    except yaml.YAMLError as exc:\n",
    "        print(exc)"
   ]
  },
  {
   "cell_type": "code",
   "execution_count": 32,
   "id": "3cc04758-19cf-40e1-95ce-605e162f99f5",
   "metadata": {},
   "outputs": [],
   "source": [
    "leader_df = pd.read_csv(r\"world-leaders-social-media.csv\")"
   ]
  },
  {
   "cell_type": "code",
   "execution_count": 22,
   "id": "e2050afc-64c4-4db3-9693-1e2b61ca5f67",
   "metadata": {},
   "outputs": [],
   "source": [
    "no_aliases = []\n",
    "for country in countries:\n",
    "    if 'aliases' in country:\n",
    "        pass\n",
    "    else:\n",
    "        no_aliases.append(country)"
   ]
  },
  {
   "cell_type": "code",
   "execution_count": 24,
   "id": "3cc1e73f-ce66-4201-8322-4b1a2d2073e1",
   "metadata": {},
   "outputs": [],
   "source": [
    "for x in no_aliases:\n",
    "    countries[x]['aliases'] = []"
   ]
  },
  {
   "cell_type": "code",
   "execution_count": 34,
   "id": "837d4e40-c6b9-4319-b23b-3e12edd0600d",
   "metadata": {},
   "outputs": [],
   "source": [
    "df = df.T"
   ]
  },
  {
   "cell_type": "code",
   "execution_count": 801,
   "id": "212949d4-b2cb-4d97-b59a-169d8e6f49d2",
   "metadata": {},
   "outputs": [
    {
     "name": "stderr",
     "output_type": "stream",
     "text": [
      "100%|████████████████████████████████████████████████████████████████████████████████| 205/205 [02:04<00:00,  1.65it/s]\n",
      "C:\\Users\\Dan\\AppData\\Local\\Temp\\ipykernel_22572\\2633083810.py:1: SettingWithCopyWarning: \n",
      "A value is trying to be set on a copy of a slice from a DataFrame.\n",
      "Try using .loc[row_indexer,col_indexer] = value instead\n",
      "\n",
      "See the caveats in the documentation: https://pandas.pydata.org/pandas-docs/stable/user_guide/indexing.html#returning-a-view-versus-a-copy\n",
      "  df['example'] = df['iso_name'].progress_apply(kw_query)\n"
     ]
    }
   ],
   "source": [
    "df['example'] = df['iso_name'].progress_apply(kw_query)"
   ]
  },
  {
   "cell_type": "code",
   "execution_count": 146,
   "id": "53aeadae-061b-4512-9305-1ec387461934",
   "metadata": {},
   "outputs": [],
   "source": [
    "df = df[df['example'].str.len()>0]"
   ]
  },
  {
   "cell_type": "code",
   "execution_count": null,
   "id": "2cc1843e-7fc4-4f20-bece-3aace89e3b0c",
   "metadata": {},
   "outputs": [],
   "source": [
    "demonym_df = pd.read_excel(\"demonyms.xlsx\")\n",
    "\n",
    "adj = flatten_extend([i.split(', ') for i in demonym_df['Adjectivals'].tolist()])\n",
    "dem = flatten_extend([i.split(', ') for i in demonym_df['Demonyms'].tolist()])"
   ]
  },
  {
   "cell_type": "code",
   "execution_count": 802,
   "id": "c79a2319-2c7f-4d70-be65-ad4360f05082",
   "metadata": {},
   "outputs": [
    {
     "name": "stdout",
     "output_type": "stream",
     "text": [
      "Before dedup: 1155\n",
      "After dedup: 881\n"
     ]
    }
   ],
   "source": [
    "country_lookup = df['iso_name'].to_list()\n",
    "country_lookup.extend(df['short'].to_list())\n",
    "\n",
    "country_lookup.extend(flatten_extend(df[df['aliases'].notna()]['aliases'].to_list()))\n",
    "country_lookup.extend(adj)\n",
    "country_lookup.extend(dem)\n",
    "\n",
    "bonus_context = ['US', 'U.S.', 'USA', 'U.S.A.' 'England', 'Herzegovina', 'British', 'Kurd', 'Kurdish', 'Washington', 'Beijing', 'Moscow', 'London',\n",
    "                'Gaza', 'Palestine', 'West Bank', 'Levant', 'NKorea', 'SKorea', \"Uyghurs\",\"Uighurs\", \"Uygurs\", \"Uigurs\",\"Uyghur\",\"Uighur\", \"Uygur\", \n",
    "                 \"Uigur\", \"Native Americans\", \"Native American\", 'Hezbollah', 'ISIS', 'ISIL', 'Daesh', 'Obama', 'Biden', 'Mike Pence', 'Donald Trump',\n",
    "                'Putin', 'Xi Jinping', 'Syria', 'Syrian', 'Zelensky', 'Berlin', 'Madrid', 'Paris', 'Korea']\n",
    "country_lookup.extend(bonus_context)\n",
    "\n",
    "country_lookup = [x.strip() for x in country_lookup]\n",
    "\n",
    "print(\"Before dedup:\",len(country_lookup))\n",
    "country_lookup = list(set(country_lookup))\n",
    "print(\"After dedup:\",len(country_lookup))"
   ]
  },
  {
   "cell_type": "code",
   "execution_count": 803,
   "id": "3d83af9d-0ec3-4011-9fa7-f04cddff8559",
   "metadata": {},
   "outputs": [],
   "source": [
    "## Todo: escape periods. For some reason this is really hard\n",
    "country_lookup = [x.replace('.', r'.') for x in country_lookup]\n",
    "country_lookup.sort()\n",
    "country_query = [fr\"\\b{x}\\b\" for x in country_lookup]\n",
    "regex_query = re.compile(\"|\".join(country_query))"
   ]
  },
  {
   "cell_type": "code",
   "execution_count": 804,
   "id": "8d2348a6-7e71-44b3-8379-d98add275709",
   "metadata": {},
   "outputs": [
    {
     "data": {
      "text/plain": [
       "True"
      ]
     },
     "execution_count": 804,
     "metadata": {},
     "output_type": "execute_result"
    }
   ],
   "source": [
    "'Putin' in country_lookup"
   ]
  },
  {
   "cell_type": "markdown",
   "id": "977acd09-fb49-4ddc-92e1-ab9f67166653",
   "metadata": {},
   "source": [
    "## Apply annotations/Make training data"
   ]
  },
  {
   "cell_type": "code",
   "execution_count": 808,
   "id": "e0499c90-84ce-4ac1-b37a-eeae73fd0c58",
   "metadata": {},
   "outputs": [
    {
     "name": "stderr",
     "output_type": "stream",
     "text": [
      "C:\\Users\\Dan\\AppData\\Local\\Temp\\ipykernel_22572\\2011254448.py:1: SettingWithCopyWarning: \n",
      "A value is trying to be set on a copy of a slice from a DataFrame.\n",
      "Try using .loc[row_indexer,col_indexer] = value instead\n",
      "\n",
      "See the caveats in the documentation: https://pandas.pydata.org/pandas-docs/stable/user_guide/indexing.html#returning-a-view-versus-a-copy\n",
      "  df['example'] = df['example'].astype(str)\n"
     ]
    }
   ],
   "source": [
    "df['example'] = df['example'].astype(str)"
   ]
  },
  {
   "cell_type": "code",
   "execution_count": 809,
   "id": "59bb0377-07ac-4459-9e57-a9e88fd568aa",
   "metadata": {},
   "outputs": [
    {
     "name": "stderr",
     "output_type": "stream",
     "text": [
      "100%|██████████████████████████████████████████████████████████████████████████████| 205/205 [00:00<00:00, 4181.41it/s]\n",
      "C:\\Users\\Dan\\AppData\\Local\\Temp\\ipykernel_22572\\1966908333.py:1: SettingWithCopyWarning: \n",
      "A value is trying to be set on a copy of a slice from a DataFrame.\n",
      "Try using .loc[row_indexer,col_indexer] = value instead\n",
      "\n",
      "See the caveats in the documentation: https://pandas.pydata.org/pandas-docs/stable/user_guide/indexing.html#returning-a-view-versus-a-copy\n",
      "  df['annotated'] = df['example'].progress_apply(annotate)\n"
     ]
    },
    {
     "name": "stdout",
     "output_type": "stream",
     "text": [
      "47580\n"
     ]
    },
    {
     "name": "stderr",
     "output_type": "stream",
     "text": [
      "100%|██████████████████████████████████████████████████████████████████████████| 47580/47580 [00:11<00:00, 4304.70it/s]\n"
     ]
    }
   ],
   "source": [
    "df['annotated'] = df['example'].progress_apply(annotate)\n",
    "annotated = df['annotated'].to_list()\n",
    "train_data = get_random_titles(50000)\n",
    "df3 = pd.DataFrame(train_data, columns=['text'])\n",
    "df3 = df3.drop_duplicates('text')\n",
    "print(len(df3))\n",
    "df3['annotated'] = df3['text'].progress_apply(annotate)\n",
    "df3 = df3[df3['annotated'].astype(str).str.contains('Country')]\n",
    "annotated2 = df3['annotated'].to_list()\n",
    "annotated.extend(annotated2)"
   ]
  },
  {
   "cell_type": "code",
   "execution_count": 810,
   "id": "3e971ad3-b784-4c54-ae57-31505b58a0ff",
   "metadata": {},
   "outputs": [
    {
     "data": {
      "text/plain": [
       "12075"
      ]
     },
     "execution_count": 810,
     "metadata": {},
     "output_type": "execute_result"
    }
   ],
   "source": [
    "len(annotated)"
   ]
  },
  {
   "cell_type": "raw",
   "id": "41fa30c4-678a-4d4f-805e-80c419a331f0",
   "metadata": {},
   "source": [
    "for sentence in annotated:\n",
    "    # print(sentence)\n",
    "    for pair in sentence:\n",
    "        if pair[0] in [ 'U.K.', 'U.S.', 'U.S. Virgin Island', 'U.S. Virgin Islanders', 'U.S.A.']:\n",
    "            pair = (pair[0], 'Country')\n",
    "        # print(pair)"
   ]
  },
  {
   "cell_type": "code",
   "execution_count": 811,
   "id": "5a3c5f78-cf35-4902-941f-49ca029eac5d",
   "metadata": {},
   "outputs": [],
   "source": [
    "train, dev = train_test_split(annotated, test_size=0.2, random_state=42)\n",
    "\n",
    "dataset = {\"train\": train, \"dev\":dev}"
   ]
  },
  {
   "cell_type": "markdown",
   "id": "d370f275-f40d-425b-811e-d8c2b10c66a9",
   "metadata": {},
   "source": [
    "## Train Hidden Markov Model"
   ]
  },
  {
   "cell_type": "code",
   "execution_count": 812,
   "id": "783131b2-3394-47f1-a946-5696ca667653",
   "metadata": {},
   "outputs": [
    {
     "name": "stdout",
     "output_type": "stream",
     "text": [
      "accuracy over 35818 tokens: 98.84\n"
     ]
    }
   ],
   "source": [
    "hmm_tagger = train_hmm(dataset[\"train\"], dataset[\"dev\"])"
   ]
  },
  {
   "cell_type": "markdown",
   "id": "4f49191f-e5d6-45e5-86b5-31fd955b57e6",
   "metadata": {},
   "source": [
    "## Validate"
   ]
  },
  {
   "cell_type": "code",
   "execution_count": 813,
   "id": "e46f217e-cfc7-4cf2-b931-18ba7c8db3f7",
   "metadata": {},
   "outputs": [],
   "source": [
    "testoo = get_random_titles(500)\n",
    "df4 = pd.DataFrame(testoo, columns=['text'])"
   ]
  },
  {
   "cell_type": "code",
   "execution_count": 814,
   "id": "ed6666ae-87ce-4d59-9014-68fdc35efe5c",
   "metadata": {},
   "outputs": [
    {
     "data": {
      "text/plain": [
       "488"
      ]
     },
     "execution_count": 814,
     "metadata": {},
     "output_type": "execute_result"
    }
   ],
   "source": [
    "df4 = df4.drop_duplicates('text')\n",
    "len(df4)"
   ]
  },
  {
   "cell_type": "code",
   "execution_count": 815,
   "id": "b84b91b5-27a1-4a0b-a806-336a65dc4bb3",
   "metadata": {
    "scrolled": true
   },
   "outputs": [
    {
     "name": "stderr",
     "output_type": "stream",
     "text": [
      "100%|██████████████████████████████████████████████████████████████████████████████| 488/488 [00:00<00:00, 4317.57it/s]\n",
      "100%|███████████████████████████████████████████████████████████████████████████████| 488/488 [00:01<00:00, 382.82it/s]\n"
     ]
    }
   ],
   "source": [
    "df4['annotate'] = df4['text'].progress_apply(annotate)\n",
    "df4['hmm'] = df4['text'].progress_apply(lambda x: hmm_tagger.tag(twt.tokenize(x)))"
   ]
  },
  {
   "cell_type": "code",
   "execution_count": 816,
   "id": "74b352cc-df4d-40d5-9565-ee3f26201d4d",
   "metadata": {},
   "outputs": [
    {
     "data": {
      "text/plain": [
       "115"
      ]
     },
     "execution_count": 816,
     "metadata": {},
     "output_type": "execute_result"
    }
   ],
   "source": [
    "len(df4[df4['annotate']!=df4['hmm']])"
   ]
  },
  {
   "cell_type": "code",
   "execution_count": 817,
   "id": "b1ed1ba9-8e51-40da-b127-814efd566c44",
   "metadata": {},
   "outputs": [
    {
     "data": {
      "text/html": [
       "<div>\n",
       "<style scoped>\n",
       "    .dataframe tbody tr th:only-of-type {\n",
       "        vertical-align: middle;\n",
       "    }\n",
       "\n",
       "    .dataframe tbody tr th {\n",
       "        vertical-align: top;\n",
       "    }\n",
       "\n",
       "    .dataframe thead th {\n",
       "        text-align: right;\n",
       "    }\n",
       "</style>\n",
       "<table border=\"1\" class=\"dataframe\">\n",
       "  <thead>\n",
       "    <tr style=\"text-align: right;\">\n",
       "      <th></th>\n",
       "      <th>text</th>\n",
       "      <th>annotate</th>\n",
       "      <th>hmm</th>\n",
       "    </tr>\n",
       "  </thead>\n",
       "  <tbody>\n",
       "    <tr>\n",
       "      <th>115</th>\n",
       "      <td>Katharine McPhee shows off her long legs in playful social media post calling out AMC Theatres: 'Where's my concert movie deal?'</td>\n",
       "      <td>[(Katharine, o), (McPhee, o), (shows, o), (off, o), (her, o), (long, o), (legs, o), (in, o), (playful, o), (social, o), (media, o), (post, o), (calling, o), (out, o), (AMC, o), (Theatres, o), (:, o), ('Where, o), ('s, o), (my, o), (concert, o), (movie, o), (deal, o), (?, o), (', o)]</td>\n",
       "      <td>[(Katharine, Country), (McPhee, o), (shows, o), (off, o), (her, o), (long, o), (legs, o), (in, o), (playful, o), (social, o), (media, o), (post, o), (calling, o), (out, o), (AMC, o), (Theatres, o), (:, o), ('Where, o), ('s, o), (my, o), (concert, o), (movie, o), (deal, o), (?, o), (', o)]</td>\n",
       "    </tr>\n",
       "    <tr>\n",
       "      <th>282</th>\n",
       "      <td>Christina Ricci seemingly calls out Ashton Kutcher and his wife Mila Kunis amid Danny Masterson rape case controversy: 'Believe victims'</td>\n",
       "      <td>[(Christina, o), (Ricci, o), (seemingly, o), (calls, o), (out, o), (Ashton, o), (Kutcher, o), (and, o), (his, o), (wife, o), (Mila, o), (Kunis, o), (amid, o), (Danny, o), (Masterson, o), (rape, o), (case, o), (controversy, o), (:, o), ('Believe, o), (victims, o), (', o)]</td>\n",
       "      <td>[(Christina, Country), (Ricci, o), (seemingly, o), (calls, o), (out, o), (Ashton, o), (Kutcher, o), (and, o), (his, o), (wife, o), (Mila, o), (Kunis, o), (amid, o), (Danny, o), (Masterson, o), (rape, o), (case, o), (controversy, o), (:, o), ('Believe, o), (victims, o), (', o)]</td>\n",
       "    </tr>\n",
       "    <tr>\n",
       "      <th>356</th>\n",
       "      <td>Nitrous oxide: MPs approve bill to ban laughing gas possession</td>\n",
       "      <td>[(Nitrous, o), (oxide, o), (:, o), (MPs, o), (approve, o), (bill, o), (to, o), (ban, o), (laughing, o), (gas, o), (possession, o)]</td>\n",
       "      <td>[(Nitrous, Country), (oxide, o), (:, o), (MPs, o), (approve, o), (bill, o), (to, o), (ban, o), (laughing, o), (gas, o), (possession, o)]</td>\n",
       "    </tr>\n",
       "    <tr>\n",
       "      <th>288</th>\n",
       "      <td>Trump Says House Destroyed Jan. 6 Documents</td>\n",
       "      <td>[(Trump, o), (Says, o), (House, o), (Destroyed, o), (Jan., o), (6, o), (Documents, o)]</td>\n",
       "      <td>[(Trump, Country), (Says, o), (House, o), (Destroyed, o), (Jan., o), (6, o), (Documents, o)]</td>\n",
       "    </tr>\n",
       "    <tr>\n",
       "      <th>301</th>\n",
       "      <td>Eighth Covid wave strikes Australia: Chief medical officer Paul Kelly reassures strain is less 'severe' than predecessors</td>\n",
       "      <td>[(Eighth, o), (Covid, o), (wave, o), (strikes, o), (Australia, Country), (:, o), (Chief, o), (medical, o), (officer, o), (Paul, o), (Kelly, o), (reassures, o), (strain, o), (is, o), (less, o), ('severe, o), (', o), (than, o), (predecessors, o)]</td>\n",
       "      <td>[(Eighth, Country), (Covid, o), (wave, o), (strikes, o), (Australia, Country), (:, o), (Chief, o), (medical, o), (officer, o), (Paul, o), (Kelly, o), (reassures, o), (strain, o), (is, o), (less, o), ('severe, o), (', o), (than, o), (predecessors, o)]</td>\n",
       "    </tr>\n",
       "  </tbody>\n",
       "</table>\n",
       "</div>"
      ],
      "text/plain": [
       "                                                                                                                                         text  \\\n",
       "115          Katharine McPhee shows off her long legs in playful social media post calling out AMC Theatres: 'Where's my concert movie deal?'   \n",
       "282  Christina Ricci seemingly calls out Ashton Kutcher and his wife Mila Kunis amid Danny Masterson rape case controversy: 'Believe victims'   \n",
       "356                                                                            Nitrous oxide: MPs approve bill to ban laughing gas possession   \n",
       "288                                                                                               Trump Says House Destroyed Jan. 6 Documents   \n",
       "301                 Eighth Covid wave strikes Australia: Chief medical officer Paul Kelly reassures strain is less 'severe' than predecessors   \n",
       "\n",
       "                                                                                                                                                                                                                                                                                        annotate  \\\n",
       "115  [(Katharine, o), (McPhee, o), (shows, o), (off, o), (her, o), (long, o), (legs, o), (in, o), (playful, o), (social, o), (media, o), (post, o), (calling, o), (out, o), (AMC, o), (Theatres, o), (:, o), ('Where, o), ('s, o), (my, o), (concert, o), (movie, o), (deal, o), (?, o), (', o)]   \n",
       "282              [(Christina, o), (Ricci, o), (seemingly, o), (calls, o), (out, o), (Ashton, o), (Kutcher, o), (and, o), (his, o), (wife, o), (Mila, o), (Kunis, o), (amid, o), (Danny, o), (Masterson, o), (rape, o), (case, o), (controversy, o), (:, o), ('Believe, o), (victims, o), (', o)]   \n",
       "356                                                                                                                                                           [(Nitrous, o), (oxide, o), (:, o), (MPs, o), (approve, o), (bill, o), (to, o), (ban, o), (laughing, o), (gas, o), (possession, o)]   \n",
       "288                                                                                                                                                                                                       [(Trump, o), (Says, o), (House, o), (Destroyed, o), (Jan., o), (6, o), (Documents, o)]   \n",
       "301                                         [(Eighth, o), (Covid, o), (wave, o), (strikes, o), (Australia, Country), (:, o), (Chief, o), (medical, o), (officer, o), (Paul, o), (Kelly, o), (reassures, o), (strain, o), (is, o), (less, o), ('severe, o), (', o), (than, o), (predecessors, o)]   \n",
       "\n",
       "                                                                                                                                                                                                                                                                                                   hmm  \n",
       "115  [(Katharine, Country), (McPhee, o), (shows, o), (off, o), (her, o), (long, o), (legs, o), (in, o), (playful, o), (social, o), (media, o), (post, o), (calling, o), (out, o), (AMC, o), (Theatres, o), (:, o), ('Where, o), ('s, o), (my, o), (concert, o), (movie, o), (deal, o), (?, o), (', o)]  \n",
       "282              [(Christina, Country), (Ricci, o), (seemingly, o), (calls, o), (out, o), (Ashton, o), (Kutcher, o), (and, o), (his, o), (wife, o), (Mila, o), (Kunis, o), (amid, o), (Danny, o), (Masterson, o), (rape, o), (case, o), (controversy, o), (:, o), ('Believe, o), (victims, o), (', o)]  \n",
       "356                                                                                                                                                           [(Nitrous, Country), (oxide, o), (:, o), (MPs, o), (approve, o), (bill, o), (to, o), (ban, o), (laughing, o), (gas, o), (possession, o)]  \n",
       "288                                                                                                                                                                                                       [(Trump, Country), (Says, o), (House, o), (Destroyed, o), (Jan., o), (6, o), (Documents, o)]  \n",
       "301                                         [(Eighth, Country), (Covid, o), (wave, o), (strikes, o), (Australia, Country), (:, o), (Chief, o), (medical, o), (officer, o), (Paul, o), (Kelly, o), (reassures, o), (strain, o), (is, o), (less, o), ('severe, o), (', o), (than, o), (predecessors, o)]  "
      ]
     },
     "execution_count": 817,
     "metadata": {},
     "output_type": "execute_result"
    }
   ],
   "source": [
    "df4[df4['annotate']!=df4['hmm']].sample(5)"
   ]
  },
  {
   "cell_type": "code",
   "execution_count": 818,
   "id": "7c8b64c1-756b-4e25-8080-7def7ca249db",
   "metadata": {},
   "outputs": [
    {
     "data": {
      "text/html": [
       "<div>\n",
       "<style scoped>\n",
       "    .dataframe tbody tr th:only-of-type {\n",
       "        vertical-align: middle;\n",
       "    }\n",
       "\n",
       "    .dataframe tbody tr th {\n",
       "        vertical-align: top;\n",
       "    }\n",
       "\n",
       "    .dataframe thead th {\n",
       "        text-align: right;\n",
       "    }\n",
       "</style>\n",
       "<table border=\"1\" class=\"dataframe\">\n",
       "  <thead>\n",
       "    <tr style=\"text-align: right;\">\n",
       "      <th></th>\n",
       "      <th>text</th>\n",
       "      <th>annotate</th>\n",
       "      <th>hmm</th>\n",
       "    </tr>\n",
       "  </thead>\n",
       "  <tbody>\n",
       "    <tr>\n",
       "      <th>252</th>\n",
       "      <td>First pill for fecal transplants wins FDA approval</td>\n",
       "      <td>[(First, o), (pill, o), (for, o), (fecal, o), (transplants, o), (wins, o), (FDA, o), (approval, o)]</td>\n",
       "      <td>[(First, o), (pill, o), (for, o), (fecal, o), (transplants, o), (wins, o), (FDA, o), (approval, o)]</td>\n",
       "    </tr>\n",
       "    <tr>\n",
       "      <th>182</th>\n",
       "      <td>Deutsche Bank makes the highest S&amp;P 500 forecast on Wall Street — and says that may be too conservative</td>\n",
       "      <td>[(Deutsche, o), (Bank, o), (makes, o), (the, o), (highest, o), (S, o), (&amp;, o), (P, o), (500, o), (forecast, o), (on, o), (Wall, o), (Street, o), (—, o), (and, o), (says, o), (that, o), (may, o), (be, o), (too, o), (conservative, o)]</td>\n",
       "      <td>[(Deutsche, Country), (Bank, o), (makes, o), (the, o), (highest, o), (S, o), (&amp;, o), (P, o), (500, o), (forecast, o), (on, o), (Wall, o), (Street, o), (—, o), (and, o), (says, o), (that, o), (may, o), (be, o), (too, o), (conservative, o)]</td>\n",
       "    </tr>\n",
       "    <tr>\n",
       "      <th>361</th>\n",
       "      <td>Brit in Japan describes house shaking in quake</td>\n",
       "      <td>[(Brit, o), (in, o), (Japan, Country), (describes, o), (house, o), (shaking, o), (in, o), (quake, o)]</td>\n",
       "      <td>[(Brit, o), (in, o), (Japan, Country), (describes, o), (house, o), (shaking, o), (in, o), (quake, o)]</td>\n",
       "    </tr>\n",
       "    <tr>\n",
       "      <th>24</th>\n",
       "      <td>Inside the Commando Raids Unnerving Russia in Crimea</td>\n",
       "      <td>[(Inside, o), (the, o), (Commando, o), (Raids, o), (Unnerving, o), (Russia, Country), (in, o), (Crimea, o)]</td>\n",
       "      <td>[(Inside, o), (the, o), (Commando, o), (Raids, o), (Unnerving, o), (Russia, Country), (in, o), (Crimea, o)]</td>\n",
       "    </tr>\n",
       "    <tr>\n",
       "      <th>107</th>\n",
       "      <td>Highlights from the third GOP debate, in 3 minutes</td>\n",
       "      <td>[(Highlights, o), (from, o), (the, o), (third, o), (GOP, o), (debate, o), (,, o), (in, o), (3, o), (minutes, o)]</td>\n",
       "      <td>[(Highlights, o), (from, o), (the, o), (third, o), (GOP, o), (debate, o), (,, o), (in, o), (3, o), (minutes, o)]</td>\n",
       "    </tr>\n",
       "  </tbody>\n",
       "</table>\n",
       "</div>"
      ],
      "text/plain": [
       "                                                                                                        text  \\\n",
       "252                                                       First pill for fecal transplants wins FDA approval   \n",
       "182  Deutsche Bank makes the highest S&P 500 forecast on Wall Street — and says that may be too conservative   \n",
       "361                                                           Brit in Japan describes house shaking in quake   \n",
       "24                                                      Inside the Commando Raids Unnerving Russia in Crimea   \n",
       "107                                                       Highlights from the third GOP debate, in 3 minutes   \n",
       "\n",
       "                                                                                                                                                                                                                                     annotate  \\\n",
       "252                                                                                                                                       [(First, o), (pill, o), (for, o), (fecal, o), (transplants, o), (wins, o), (FDA, o), (approval, o)]   \n",
       "182  [(Deutsche, o), (Bank, o), (makes, o), (the, o), (highest, o), (S, o), (&, o), (P, o), (500, o), (forecast, o), (on, o), (Wall, o), (Street, o), (—, o), (and, o), (says, o), (that, o), (may, o), (be, o), (too, o), (conservative, o)]   \n",
       "361                                                                                                                                     [(Brit, o), (in, o), (Japan, Country), (describes, o), (house, o), (shaking, o), (in, o), (quake, o)]   \n",
       "24                                                                                                                                [(Inside, o), (the, o), (Commando, o), (Raids, o), (Unnerving, o), (Russia, Country), (in, o), (Crimea, o)]   \n",
       "107                                                                                                                          [(Highlights, o), (from, o), (the, o), (third, o), (GOP, o), (debate, o), (,, o), (in, o), (3, o), (minutes, o)]   \n",
       "\n",
       "                                                                                                                                                                                                                                                hmm  \n",
       "252                                                                                                                                             [(First, o), (pill, o), (for, o), (fecal, o), (transplants, o), (wins, o), (FDA, o), (approval, o)]  \n",
       "182  [(Deutsche, Country), (Bank, o), (makes, o), (the, o), (highest, o), (S, o), (&, o), (P, o), (500, o), (forecast, o), (on, o), (Wall, o), (Street, o), (—, o), (and, o), (says, o), (that, o), (may, o), (be, o), (too, o), (conservative, o)]  \n",
       "361                                                                                                                                           [(Brit, o), (in, o), (Japan, Country), (describes, o), (house, o), (shaking, o), (in, o), (quake, o)]  \n",
       "24                                                                                                                                      [(Inside, o), (the, o), (Commando, o), (Raids, o), (Unnerving, o), (Russia, Country), (in, o), (Crimea, o)]  \n",
       "107                                                                                                                                [(Highlights, o), (from, o), (the, o), (third, o), (GOP, o), (debate, o), (,, o), (in, o), (3, o), (minutes, o)]  "
      ]
     },
     "execution_count": 818,
     "metadata": {},
     "output_type": "execute_result"
    }
   ],
   "source": [
    "df4.sample(5)"
   ]
  },
  {
   "cell_type": "markdown",
   "id": "3a65f0c8-4574-4e49-8510-3848e046e21a",
   "metadata": {},
   "source": [
    "## Explore how it broke\n",
    "- Periods in acronyms are a bear to deal with in regex"
   ]
  },
  {
   "cell_type": "code",
   "execution_count": 819,
   "id": "75ddaabc-f2da-468c-bc9c-b2d0e2a9c623",
   "metadata": {},
   "outputs": [
    {
     "data": {
      "text/plain": [
       "[('U.S.', 'o'),\n",
       " ('officials', 'o'),\n",
       " ('found', 'o'),\n",
       " ('eating', 'o'),\n",
       " ('cheezits', 'o'),\n",
       " ('under', 'o'),\n",
       " ('the', 'o'),\n",
       " ('bleachers', 'o')]"
      ]
     },
     "execution_count": 819,
     "metadata": {},
     "output_type": "execute_result"
    }
   ],
   "source": [
    "hmm_tagger.tag(twt.tokenize(\"U.S. officials found eating cheezits under the bleachers\"))"
   ]
  },
  {
   "cell_type": "code",
   "execution_count": 820,
   "id": "c6130c9e-6d03-4ccb-9131-4ff52f2ca330",
   "metadata": {},
   "outputs": [
    {
     "data": {
      "text/plain": [
       "[('U.S.', 'o'),\n",
       " ('officials', 'o'),\n",
       " ('found', 'o'),\n",
       " ('eating', 'o'),\n",
       " ('cheezits', 'o'),\n",
       " ('under', 'o'),\n",
       " ('the', 'o'),\n",
       " ('bleachers', 'o')]"
      ]
     },
     "execution_count": 820,
     "metadata": {},
     "output_type": "execute_result"
    }
   ],
   "source": [
    "annotate(\"U.S. officials found eating cheezits under the bleachers\")"
   ]
  },
  {
   "cell_type": "code",
   "execution_count": 821,
   "id": "97268236-328e-425d-beb3-2df2b70011c8",
   "metadata": {},
   "outputs": [
    {
     "data": {
      "text/plain": [
       "[('Biden', 'Country'),\n",
       " ('and', 'o'),\n",
       " ('Putin', 'Country'),\n",
       " ('had', 'o'),\n",
       " ('lunch', 'o'),\n",
       " ('in', 'o'),\n",
       " ('Moscow', 'Country'),\n",
       " (',', 'o'),\n",
       " ('waiting', 'o'),\n",
       " ('for', 'o'),\n",
       " ('a', 'o'),\n",
       " ('call', 'o'),\n",
       " ('from', 'o'),\n",
       " ('Egypt', 'Country')]"
      ]
     },
     "execution_count": 821,
     "metadata": {},
     "output_type": "execute_result"
    }
   ],
   "source": [
    "hmm_tagger.tag(twt.tokenize(\"Biden and Putin had lunch in Moscow, waiting for a call from Egypt\"))"
   ]
  },
  {
   "cell_type": "code",
   "execution_count": 822,
   "id": "da44532d-122a-4ea1-8f62-d0eccd7d8036",
   "metadata": {},
   "outputs": [
    {
     "data": {
      "text/plain": [
       "[('Biden', 'Country'),\n",
       " ('and', 'o'),\n",
       " ('Putin', 'Country'),\n",
       " ('had', 'o'),\n",
       " ('lunch', 'o'),\n",
       " ('in', 'o'),\n",
       " ('Moscow', 'Country'),\n",
       " (',', 'o'),\n",
       " ('waiting', 'o'),\n",
       " ('for', 'o'),\n",
       " ('a', 'o'),\n",
       " ('call', 'o'),\n",
       " ('from', 'o'),\n",
       " ('Egypt', 'Country')]"
      ]
     },
     "execution_count": 822,
     "metadata": {},
     "output_type": "execute_result"
    }
   ],
   "source": [
    "annotate(\"Biden and Putin had lunch in Moscow, waiting for a call from Egypt\")"
   ]
  },
  {
   "cell_type": "code",
   "execution_count": 823,
   "id": "be61f24e-4000-4ccc-8b0e-ea617983f99d",
   "metadata": {},
   "outputs": [
    {
     "data": {
      "text/plain": [
       "[('Turkish', 'Country'),\n",
       " ('official', 'o'),\n",
       " ('says', 'o'),\n",
       " ('death', 'o'),\n",
       " ('toll', 'o'),\n",
       " ('from', 'o'),\n",
       " ('earthquake', 'o'),\n",
       " ('is', 'o'),\n",
       " ('now', 'o'),\n",
       " ('at', 'o'),\n",
       " ('284', 'o'),\n",
       " (',', 'o'),\n",
       " ('bringing', 'o'),\n",
       " ('overall', 'o'),\n",
       " ('death', 'o'),\n",
       " ('toll', 'o'),\n",
       " ('in', 'o'),\n",
       " ('Turkey', 'Country'),\n",
       " ('and', 'o'),\n",
       " ('Syria', 'Country'),\n",
       " ('to', 'o'),\n",
       " ('568', 'o')]"
      ]
     },
     "execution_count": 823,
     "metadata": {},
     "output_type": "execute_result"
    }
   ],
   "source": [
    "annotate('Turkish official says death toll from earthquake is now at 284, bringing overall death toll in Turkey and Syria to 568')"
   ]
  },
  {
   "cell_type": "code",
   "execution_count": 824,
   "id": "b9626f97-c619-44ae-9b70-06ec4fb94e6e",
   "metadata": {},
   "outputs": [
    {
     "data": {
      "text/plain": [
       "[('Turkish', 'Country'),\n",
       " ('official', 'o'),\n",
       " ('says', 'o'),\n",
       " ('death', 'o'),\n",
       " ('toll', 'o'),\n",
       " ('from', 'o'),\n",
       " ('earthquake', 'o'),\n",
       " ('is', 'o'),\n",
       " ('now', 'o'),\n",
       " ('at', 'o'),\n",
       " ('284', 'o'),\n",
       " (',', 'o'),\n",
       " ('bringing', 'o'),\n",
       " ('overall', 'o'),\n",
       " ('death', 'o'),\n",
       " ('toll', 'o'),\n",
       " ('in', 'o'),\n",
       " ('Turkey', 'Country'),\n",
       " ('and', 'o'),\n",
       " ('Syria', 'Country'),\n",
       " ('to', 'o'),\n",
       " ('568', 'o')]"
      ]
     },
     "execution_count": 824,
     "metadata": {},
     "output_type": "execute_result"
    }
   ],
   "source": [
    "hmm_tagger.tag(twt.tokenize('Turkish official says death toll from earthquake is now at 284, bringing overall death toll in Turkey and Syria to 568'))"
   ]
  },
  {
   "cell_type": "code",
   "execution_count": 829,
   "id": "3632e2eb-35f5-4306-9c77-780f83240940",
   "metadata": {},
   "outputs": [
    {
     "data": {
      "text/plain": [
       "[('Eighth', 'Country'),\n",
       " ('Covid', 'o'),\n",
       " ('wave', 'o'),\n",
       " ('strikes', 'o'),\n",
       " ('Australia', 'Country')]"
      ]
     },
     "execution_count": 829,
     "metadata": {},
     "output_type": "execute_result"
    }
   ],
   "source": [
    "hmm_tagger.tag(twt.tokenize('Eighth Covid wave strikes Australia'))"
   ]
  },
  {
   "cell_type": "code",
   "execution_count": 830,
   "id": "4a1875f3-86fd-4f5f-958e-edd98c3e6729",
   "metadata": {},
   "outputs": [
    {
     "data": {
      "text/plain": [
       "['Eighth', 'Covid', 'wave', 'strikes', 'Australia']"
      ]
     },
     "execution_count": 830,
     "metadata": {},
     "output_type": "execute_result"
    }
   ],
   "source": [
    "twt.tokenize('Eighth Covid wave strikes Australia')"
   ]
  },
  {
   "cell_type": "code",
   "execution_count": null,
   "id": "a83fa850-73de-47ad-acd8-f36edb99b7ef",
   "metadata": {},
   "outputs": [],
   "source": []
  }
 ],
 "metadata": {
  "kernelspec": {
   "display_name": "Python 3 (ipykernel)",
   "language": "python",
   "name": "python3"
  },
  "language_info": {
   "codemirror_mode": {
    "name": "ipython",
    "version": 3
   },
   "file_extension": ".py",
   "mimetype": "text/x-python",
   "name": "python",
   "nbconvert_exporter": "python",
   "pygments_lexer": "ipython3",
   "version": "3.10.13"
  }
 },
 "nbformat": 4,
 "nbformat_minor": 5
}
